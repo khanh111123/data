{
 "cells": [
  {
   "cell_type": "markdown",
   "metadata": {},
   "source": [
    "\n",
    "# **CÁC YẾU TỐ ẢNH HƯỞNG ĐẾN GIÁ NHÀ Ở HÀ NỘI**"
   ]
  },
  {
   "cell_type": "markdown",
   "metadata": {},
   "source": [
    "## I. GIỚI THIỆU \n"
   ]
  },
  {
   "cell_type": "markdown",
   "metadata": {},
   "source": [
    "## II. MÔ TẢ CHỦ ĐỀ"
   ]
  },
  {
   "cell_type": "markdown",
   "metadata": {},
   "source": [
    "## III.TRỰC QUAN HÓA"
   ]
  },
  {
   "cell_type": "markdown",
   "metadata": {
    "_cell_guid": "b1076dfc-b9ad-4769-8c92-a6c4dae69d19",
    "_uuid": "8f2839f25d086af736a60e9eeb907d3b93b6e0e5",
    "execution": {
     "iopub.execute_input": "2022-06-16T13:39:20.571714Z",
     "iopub.status.busy": "2022-06-16T13:39:20.571222Z",
     "iopub.status.idle": "2022-06-16T13:39:20.601511Z",
     "shell.execute_reply": "2022-06-16T13:39:20.600676Z",
     "shell.execute_reply.started": "2022-06-16T13:39:20.571614Z"
    }
   },
   "source": [
    "### Import"
   ]
  },
  {
   "cell_type": "code",
   "execution_count": 65,
   "metadata": {},
   "outputs": [
    {
     "name": "stdout",
     "output_type": "stream",
     "text": [
      "Defaulting to user installation because normal site-packages is not writeable\n",
      "Note: you may need to restart the kernel to use updated packages.Collecting dash\n",
      "  Downloading dash-2.9.1-py3-none-any.whl (10.2 MB)\n",
      "Collecting dash-html-components==2.0.0\n",
      "  Downloading dash_html_components-2.0.0-py3-none-any.whl (4.1 kB)\n"
     ]
    },
    {
     "name": "stderr",
     "output_type": "stream",
     "text": [
      "  WARNING: The scripts dash-generate-components.exe, dash-update-components.exe and renderer.exe are installed in 'C:\\Users\\ADMIN\\AppData\\Roaming\\Python\\Python39\\Scripts' which is not on PATH.\n",
      "  Consider adding this directory to PATH or, if you prefer to suppress this warning, use --no-warn-script-location.\n"
     ]
    },
    {
     "name": "stdout",
     "output_type": "stream",
     "text": [
      "\n",
      "Collecting dash-table==5.0.0\n",
      "  Downloading dash_table-5.0.0-py3-none-any.whl (3.9 kB)\n",
      "Requirement already satisfied: Flask>=1.0.4 in c:\\programdata\\anaconda3\\lib\\site-packages (from dash) (1.1.2)\n",
      "Collecting dash-core-components==2.0.0\n",
      "  Downloading dash_core_components-2.0.0-py3-none-any.whl (3.8 kB)\n",
      "Requirement already satisfied: plotly>=5.0.0 in c:\\programdata\\anaconda3\\lib\\site-packages (from dash) (5.6.0)\n",
      "Requirement already satisfied: Jinja2>=2.10.1 in c:\\programdata\\anaconda3\\lib\\site-packages (from Flask>=1.0.4->dash) (2.11.3)\n",
      "Requirement already satisfied: Werkzeug>=0.15 in c:\\programdata\\anaconda3\\lib\\site-packages (from Flask>=1.0.4->dash) (2.0.3)\n",
      "Requirement already satisfied: click>=5.1 in c:\\programdata\\anaconda3\\lib\\site-packages (from Flask>=1.0.4->dash) (8.0.4)\n",
      "Requirement already satisfied: itsdangerous>=0.24 in c:\\programdata\\anaconda3\\lib\\site-packages (from Flask>=1.0.4->dash) (2.0.1)\n",
      "Requirement already satisfied: colorama in c:\\programdata\\anaconda3\\lib\\site-packages (from click>=5.1->Flask>=1.0.4->dash) (0.4.4)\n",
      "Requirement already satisfied: MarkupSafe>=0.23 in c:\\programdata\\anaconda3\\lib\\site-packages (from Jinja2>=2.10.1->Flask>=1.0.4->dash) (2.0.1)\n",
      "Requirement already satisfied: tenacity>=6.2.0 in c:\\programdata\\anaconda3\\lib\\site-packages (from plotly>=5.0.0->dash) (8.0.1)\n",
      "Requirement already satisfied: six in c:\\programdata\\anaconda3\\lib\\site-packages (from plotly>=5.0.0->dash) (1.16.0)\n",
      "Installing collected packages: dash-table, dash-html-components, dash-core-components, dash\n",
      "Successfully installed dash-2.9.1 dash-core-components-2.0.0 dash-html-components-2.0.0 dash-table-5.0.0\n"
     ]
    }
   ],
   "source": [
    "pip install dash"
   ]
  },
  {
   "cell_type": "code",
   "execution_count": 66,
   "metadata": {
    "execution": {
     "iopub.execute_input": "2022-06-22T03:13:16.841233Z",
     "iopub.status.busy": "2022-06-22T03:13:16.840158Z",
     "iopub.status.idle": "2022-06-22T03:13:17.967885Z",
     "shell.execute_reply": "2022-06-22T03:13:17.966923Z",
     "shell.execute_reply.started": "2022-06-22T03:13:16.84074Z"
    }
   },
   "outputs": [],
   "source": [
    "import matplotlib.pyplot as plt\n",
    "import pandas as pd\n",
    "import numpy as np\n",
    "import seaborn as sns"
   ]
  },
  {
   "cell_type": "markdown",
   "metadata": {},
   "source": [
    "### 1.Khám phá dữ liệu"
   ]
  },
  {
   "cell_type": "markdown",
   "metadata": {},
   "source": [
    "#### Đọc dữ liệu"
   ]
  },
  {
   "cell_type": "code",
   "execution_count": 67,
   "metadata": {
    "execution": {
     "iopub.execute_input": "2022-06-22T03:13:17.970016Z",
     "iopub.status.busy": "2022-06-22T03:13:17.969584Z",
     "iopub.status.idle": "2022-06-22T03:13:18.733037Z",
     "shell.execute_reply": "2022-06-22T03:13:18.73197Z",
     "shell.execute_reply.started": "2022-06-22T03:13:17.969982Z"
    }
   },
   "outputs": [
    {
     "name": "stderr",
     "output_type": "stream",
     "text": [
      "'ls' is not recognized as an internal or external command,\n",
      "operable program or batch file.\n"
     ]
    }
   ],
   "source": [
    "!ls ..E:\\data\\DATA NHÓM 6.csv"
   ]
  },
  {
   "cell_type": "code",
   "execution_count": 68,
   "metadata": {
    "execution": {
     "iopub.execute_input": "2022-06-22T03:13:18.738105Z",
     "iopub.status.busy": "2022-06-22T03:13:18.737193Z",
     "iopub.status.idle": "2022-06-22T03:13:19.421172Z",
     "shell.execute_reply": "2022-06-22T03:13:19.419997Z",
     "shell.execute_reply.started": "2022-06-22T03:13:18.738049Z"
    }
   },
   "outputs": [
    {
     "data": {
      "text/html": [
       "<div>\n",
       "<style scoped>\n",
       "    .dataframe tbody tr th:only-of-type {\n",
       "        vertical-align: middle;\n",
       "    }\n",
       "\n",
       "    .dataframe tbody tr th {\n",
       "        vertical-align: top;\n",
       "    }\n",
       "\n",
       "    .dataframe thead th {\n",
       "        text-align: right;\n",
       "    }\n",
       "</style>\n",
       "<table border=\"1\" class=\"dataframe\">\n",
       "  <thead>\n",
       "    <tr style=\"text-align: right;\">\n",
       "      <th></th>\n",
       "      <th>Ngày</th>\n",
       "      <th>Địa chỉ</th>\n",
       "      <th>Quận</th>\n",
       "      <th>Huyện</th>\n",
       "      <th>Loại hình nhà ở</th>\n",
       "      <th>Giấy tờ pháp lý</th>\n",
       "      <th>Số tầng</th>\n",
       "      <th>Số phòng ngủ</th>\n",
       "      <th>Diện tích</th>\n",
       "      <th>Dài</th>\n",
       "      <th>Rộng</th>\n",
       "      <th>Giá/m2</th>\n",
       "    </tr>\n",
       "  </thead>\n",
       "  <tbody>\n",
       "    <tr>\n",
       "      <th>0.0</th>\n",
       "      <td>2020-08-05</td>\n",
       "      <td>Đường Hoàng Quốc Việt, Phường Nghĩa Đô, Quận C...</td>\n",
       "      <td>Quận Cầu Giấy</td>\n",
       "      <td>Phường Nghĩa Đô</td>\n",
       "      <td>Nhà ngõ, hẻm</td>\n",
       "      <td>Đã có sổ</td>\n",
       "      <td>4</td>\n",
       "      <td>5 phòng</td>\n",
       "      <td>46 m²</td>\n",
       "      <td>NaN</td>\n",
       "      <td>NaN</td>\n",
       "      <td>86,96 triệu/m²</td>\n",
       "    </tr>\n",
       "    <tr>\n",
       "      <th>1.0</th>\n",
       "      <td>2020-08-05</td>\n",
       "      <td>Đường Kim Giang, Phường Kim Giang, Quận Thanh ...</td>\n",
       "      <td>Quận Thanh Xuân</td>\n",
       "      <td>Phường Kim Giang</td>\n",
       "      <td>Nhà mặt phố, mặt tiền</td>\n",
       "      <td>NaN</td>\n",
       "      <td>NaN</td>\n",
       "      <td>3 phòng</td>\n",
       "      <td>37 m²</td>\n",
       "      <td>NaN</td>\n",
       "      <td>NaN</td>\n",
       "      <td>116,22 triệu/m²</td>\n",
       "    </tr>\n",
       "    <tr>\n",
       "      <th>2.0</th>\n",
       "      <td>2020-08-05</td>\n",
       "      <td>phố minh khai, Phường Minh Khai, Quận Hai Bà T...</td>\n",
       "      <td>Quận Hai Bà Trưng</td>\n",
       "      <td>Phường Minh Khai</td>\n",
       "      <td>Nhà ngõ, hẻm</td>\n",
       "      <td>Đã có sổ</td>\n",
       "      <td>4</td>\n",
       "      <td>4 phòng</td>\n",
       "      <td>40 m²</td>\n",
       "      <td>10 m</td>\n",
       "      <td>4 m</td>\n",
       "      <td>65 triệu/m²</td>\n",
       "    </tr>\n",
       "    <tr>\n",
       "      <th>3.0</th>\n",
       "      <td>2020-08-05</td>\n",
       "      <td>Đường Võng Thị, Phường Thụy Khuê, Quận Tây Hồ,...</td>\n",
       "      <td>Quận Tây Hồ</td>\n",
       "      <td>Phường Thụy Khuê</td>\n",
       "      <td>Nhà ngõ, hẻm</td>\n",
       "      <td>Đã có sổ</td>\n",
       "      <td>NaN</td>\n",
       "      <td>6 phòng</td>\n",
       "      <td>51 m²</td>\n",
       "      <td>12.75 m</td>\n",
       "      <td>4 m</td>\n",
       "      <td>100 triệu/m²</td>\n",
       "    </tr>\n",
       "    <tr>\n",
       "      <th>4.0</th>\n",
       "      <td>2020-08-05</td>\n",
       "      <td>Đường Kim Giang, Phường Kim Giang, Quận Thanh ...</td>\n",
       "      <td>Quận Thanh Xuân</td>\n",
       "      <td>Phường Kim Giang</td>\n",
       "      <td>Nhà ngõ, hẻm</td>\n",
       "      <td>NaN</td>\n",
       "      <td>NaN</td>\n",
       "      <td>4 phòng</td>\n",
       "      <td>36 m²</td>\n",
       "      <td>9 m</td>\n",
       "      <td>4 m</td>\n",
       "      <td>86,11 triệu/m²</td>\n",
       "    </tr>\n",
       "  </tbody>\n",
       "</table>\n",
       "</div>"
      ],
      "text/plain": [
       "           Ngày                                            Địa chỉ  \\\n",
       "0.0  2020-08-05  Đường Hoàng Quốc Việt, Phường Nghĩa Đô, Quận C...   \n",
       "1.0  2020-08-05  Đường Kim Giang, Phường Kim Giang, Quận Thanh ...   \n",
       "2.0  2020-08-05  phố minh khai, Phường Minh Khai, Quận Hai Bà T...   \n",
       "3.0  2020-08-05  Đường Võng Thị, Phường Thụy Khuê, Quận Tây Hồ,...   \n",
       "4.0  2020-08-05  Đường Kim Giang, Phường Kim Giang, Quận Thanh ...   \n",
       "\n",
       "                  Quận             Huyện        Loại hình nhà ở  \\\n",
       "0.0      Quận Cầu Giấy   Phường Nghĩa Đô           Nhà ngõ, hẻm   \n",
       "1.0    Quận Thanh Xuân  Phường Kim Giang  Nhà mặt phố, mặt tiền   \n",
       "2.0  Quận Hai Bà Trưng  Phường Minh Khai           Nhà ngõ, hẻm   \n",
       "3.0        Quận Tây Hồ  Phường Thụy Khuê           Nhà ngõ, hẻm   \n",
       "4.0    Quận Thanh Xuân  Phường Kim Giang           Nhà ngõ, hẻm   \n",
       "\n",
       "    Giấy tờ pháp lý Số tầng Số phòng ngủ Diện tích      Dài Rộng  \\\n",
       "0.0        Đã có sổ       4      5 phòng     46 m²      NaN  NaN   \n",
       "1.0             NaN     NaN      3 phòng     37 m²      NaN  NaN   \n",
       "2.0        Đã có sổ       4      4 phòng     40 m²     10 m  4 m   \n",
       "3.0        Đã có sổ     NaN      6 phòng     51 m²  12.75 m  4 m   \n",
       "4.0             NaN     NaN      4 phòng     36 m²      9 m  4 m   \n",
       "\n",
       "              Giá/m2  \n",
       "0.0   86,96 triệu/m²  \n",
       "1.0  116,22 triệu/m²  \n",
       "2.0      65 triệu/m²  \n",
       "3.0     100 triệu/m²  \n",
       "4.0   86,11 triệu/m²  "
      ]
     },
     "execution_count": 68,
     "metadata": {},
     "output_type": "execute_result"
    }
   ],
   "source": [
    "df = pd.read_csv(\"E:\\data\\DATA NHÓM 6.csv\", index_col=0)\n",
    "df.head()"
   ]
  },
  {
   "cell_type": "markdown",
   "metadata": {},
   "source": [
    "#### Dữ liệu có bao nhiêu dòng và cột"
   ]
  },
  {
   "cell_type": "code",
   "execution_count": 69,
   "metadata": {
    "execution": {
     "iopub.execute_input": "2022-06-22T03:13:19.422972Z",
     "iopub.status.busy": "2022-06-22T03:13:19.42254Z",
     "iopub.status.idle": "2022-06-22T03:13:19.429905Z",
     "shell.execute_reply": "2022-06-22T03:13:19.428813Z",
     "shell.execute_reply.started": "2022-06-22T03:13:19.422932Z"
    }
   },
   "outputs": [
    {
     "data": {
      "text/plain": [
       "(82497, 12)"
      ]
     },
     "execution_count": 69,
     "metadata": {},
     "output_type": "execute_result"
    }
   ],
   "source": [
    "n_rows, n_col = df.shape\n",
    "n_rows, n_col"
   ]
  },
  {
   "cell_type": "markdown",
   "metadata": {},
   "source": [
    "Như vậy ta có được dữ liệu hiện tại đưa vào là 82497 dòng và 12 cột."
   ]
  },
  {
   "cell_type": "markdown",
   "metadata": {},
   "source": [
    "#### Các dòng dữ liêu"
   ]
  },
  {
   "cell_type": "markdown",
   "metadata": {},
   "source": [
    "#### Mỗi dòng có ý nghĩa gì? Có vấn đề các dòng có ý nghĩa khác nhau không?"
   ]
  },
  {
   "cell_type": "code",
   "execution_count": 70,
   "metadata": {
    "execution": {
     "iopub.execute_input": "2022-06-22T03:13:19.434612Z",
     "iopub.status.busy": "2022-06-22T03:13:19.433676Z",
     "iopub.status.idle": "2022-06-22T03:13:19.466928Z",
     "shell.execute_reply": "2022-06-22T03:13:19.465797Z",
     "shell.execute_reply.started": "2022-06-22T03:13:19.434563Z"
    }
   },
   "outputs": [
    {
     "data": {
      "text/html": [
       "<div>\n",
       "<style scoped>\n",
       "    .dataframe tbody tr th:only-of-type {\n",
       "        vertical-align: middle;\n",
       "    }\n",
       "\n",
       "    .dataframe tbody tr th {\n",
       "        vertical-align: top;\n",
       "    }\n",
       "\n",
       "    .dataframe thead th {\n",
       "        text-align: right;\n",
       "    }\n",
       "</style>\n",
       "<table border=\"1\" class=\"dataframe\">\n",
       "  <thead>\n",
       "    <tr style=\"text-align: right;\">\n",
       "      <th></th>\n",
       "      <th>Ngày</th>\n",
       "      <th>Địa chỉ</th>\n",
       "      <th>Quận</th>\n",
       "      <th>Huyện</th>\n",
       "      <th>Loại hình nhà ở</th>\n",
       "      <th>Giấy tờ pháp lý</th>\n",
       "      <th>Số tầng</th>\n",
       "      <th>Số phòng ngủ</th>\n",
       "      <th>Diện tích</th>\n",
       "      <th>Dài</th>\n",
       "      <th>Rộng</th>\n",
       "      <th>Giá/m2</th>\n",
       "    </tr>\n",
       "  </thead>\n",
       "  <tbody>\n",
       "    <tr>\n",
       "      <th>62489.0</th>\n",
       "      <td>2020-06-22</td>\n",
       "      <td>Đường Phạm Tuấn Tài, Phường Dịch Vọng Hậu, Quậ...</td>\n",
       "      <td>Quận Cầu Giấy</td>\n",
       "      <td>Phường Dịch Vọng Hậu</td>\n",
       "      <td>Nhà mặt phố, mặt tiền</td>\n",
       "      <td>Đã có sổ</td>\n",
       "      <td>6</td>\n",
       "      <td>5 phòng</td>\n",
       "      <td>60 m²</td>\n",
       "      <td>20 m</td>\n",
       "      <td>5 m</td>\n",
       "      <td>300 triệu/m²</td>\n",
       "    </tr>\n",
       "    <tr>\n",
       "      <th>6612.0</th>\n",
       "      <td>2020-08-01</td>\n",
       "      <td>Đường Cự Lộc, Phường Thượng Đình, Quận Thanh X...</td>\n",
       "      <td>Quận Thanh Xuân</td>\n",
       "      <td>Phường Thượng Đình</td>\n",
       "      <td>Nhà ngõ, hẻm</td>\n",
       "      <td>Đã có sổ</td>\n",
       "      <td>5</td>\n",
       "      <td>3 phòng</td>\n",
       "      <td>35 m²</td>\n",
       "      <td>NaN</td>\n",
       "      <td>3.5 m</td>\n",
       "      <td>105,71 triệu/m²</td>\n",
       "    </tr>\n",
       "    <tr>\n",
       "      <th>19033.0</th>\n",
       "      <td>2020-07-25</td>\n",
       "      <td>Đường Mễ Trì Thượng, Phường Mễ Trì, Quận Nam T...</td>\n",
       "      <td>Quận Nam Từ Liêm</td>\n",
       "      <td>Phường Mễ Trì</td>\n",
       "      <td>Nhà ngõ, hẻm</td>\n",
       "      <td>Đã có sổ</td>\n",
       "      <td>NaN</td>\n",
       "      <td>4 phòng</td>\n",
       "      <td>45 m²</td>\n",
       "      <td>NaN</td>\n",
       "      <td>NaN</td>\n",
       "      <td>66,67 triệu/m²</td>\n",
       "    </tr>\n",
       "    <tr>\n",
       "      <th>41487.0</th>\n",
       "      <td>2020-07-09</td>\n",
       "      <td>Đường Đội Cấn, Phường Ngọc Hà, Quận Ba Đình, H...</td>\n",
       "      <td>Quận Ba Đình</td>\n",
       "      <td>Phường Ngọc Hà</td>\n",
       "      <td>Nhà ngõ, hẻm</td>\n",
       "      <td>Đã có sổ</td>\n",
       "      <td>6</td>\n",
       "      <td>6 phòng</td>\n",
       "      <td>50 m²</td>\n",
       "      <td>NaN</td>\n",
       "      <td>NaN</td>\n",
       "      <td>126 triệu/m²</td>\n",
       "    </tr>\n",
       "    <tr>\n",
       "      <th>17856.0</th>\n",
       "      <td>2020-07-25</td>\n",
       "      <td>đường ngọc thụy, Phường Ngọc Thụy, Quận Long B...</td>\n",
       "      <td>Quận Long Biên</td>\n",
       "      <td>Phường Ngọc Thụy</td>\n",
       "      <td>Nhà mặt phố, mặt tiền</td>\n",
       "      <td>Đã có sổ</td>\n",
       "      <td>5</td>\n",
       "      <td>3 phòng</td>\n",
       "      <td>42 m²</td>\n",
       "      <td>10 m</td>\n",
       "      <td>4 m</td>\n",
       "      <td>80,95 triệu/m²</td>\n",
       "    </tr>\n",
       "    <tr>\n",
       "      <th>76177.0</th>\n",
       "      <td>2020-06-11</td>\n",
       "      <td>Đường Tam Trinh, Phường Mai Động, Quận Hoàng M...</td>\n",
       "      <td>Quận Hoàng Mai</td>\n",
       "      <td>Phường Mai Động</td>\n",
       "      <td>Nhà ngõ, hẻm</td>\n",
       "      <td>Đã có sổ</td>\n",
       "      <td>NaN</td>\n",
       "      <td>3 phòng</td>\n",
       "      <td>31 m²</td>\n",
       "      <td>NaN</td>\n",
       "      <td>4 m</td>\n",
       "      <td>64,52 triệu/m²</td>\n",
       "    </tr>\n",
       "    <tr>\n",
       "      <th>53827.0</th>\n",
       "      <td>2020-06-29</td>\n",
       "      <td>Đường Lê Trọng Tấn, Phường Thanh Xuân Bắc, Quậ...</td>\n",
       "      <td>Quận Thanh Xuân</td>\n",
       "      <td>Phường Thanh Xuân Bắc</td>\n",
       "      <td>Nhà ngõ, hẻm</td>\n",
       "      <td>NaN</td>\n",
       "      <td>NaN</td>\n",
       "      <td>3 phòng</td>\n",
       "      <td>45 m²</td>\n",
       "      <td>NaN</td>\n",
       "      <td>NaN</td>\n",
       "      <td>67,78 triệu/m²</td>\n",
       "    </tr>\n",
       "    <tr>\n",
       "      <th>38368.0</th>\n",
       "      <td>2020-07-11</td>\n",
       "      <td>Ỷ La, Phường Dương Nội, Quận Hà Đông, Hà Nội</td>\n",
       "      <td>Quận Hà Đông</td>\n",
       "      <td>Phường Dương Nội</td>\n",
       "      <td>Nhà mặt phố, mặt tiền</td>\n",
       "      <td>NaN</td>\n",
       "      <td>NaN</td>\n",
       "      <td>5 phòng</td>\n",
       "      <td>79 m²</td>\n",
       "      <td>NaN</td>\n",
       "      <td>NaN</td>\n",
       "      <td>33,54 triệu/m²</td>\n",
       "    </tr>\n",
       "    <tr>\n",
       "      <th>14113.0</th>\n",
       "      <td>2020-07-28</td>\n",
       "      <td>nguyễn viết xuân, Phường Quang Trung, Quận Hà ...</td>\n",
       "      <td>Quận Hà Đông</td>\n",
       "      <td>Phường Quang Trung</td>\n",
       "      <td>Nhà ngõ, hẻm</td>\n",
       "      <td>NaN</td>\n",
       "      <td>NaN</td>\n",
       "      <td>4 phòng</td>\n",
       "      <td>46 m²</td>\n",
       "      <td>NaN</td>\n",
       "      <td>NaN</td>\n",
       "      <td>84,57 triệu/m²</td>\n",
       "    </tr>\n",
       "    <tr>\n",
       "      <th>1123.0</th>\n",
       "      <td>2020-08-04</td>\n",
       "      <td>Đường Cổ Linh, Phường Sài Đồng, Quận Long Biên...</td>\n",
       "      <td>Quận Long Biên</td>\n",
       "      <td>Phường Sài Đồng</td>\n",
       "      <td>Nhà ngõ, hẻm</td>\n",
       "      <td>Đã có sổ</td>\n",
       "      <td>5</td>\n",
       "      <td>6 phòng</td>\n",
       "      <td>40 m²</td>\n",
       "      <td>NaN</td>\n",
       "      <td>3.8 m</td>\n",
       "      <td>70 triệu/m²</td>\n",
       "    </tr>\n",
       "  </tbody>\n",
       "</table>\n",
       "</div>"
      ],
      "text/plain": [
       "               Ngày                                            Địa chỉ  \\\n",
       "62489.0  2020-06-22  Đường Phạm Tuấn Tài, Phường Dịch Vọng Hậu, Quậ...   \n",
       "6612.0   2020-08-01  Đường Cự Lộc, Phường Thượng Đình, Quận Thanh X...   \n",
       "19033.0  2020-07-25  Đường Mễ Trì Thượng, Phường Mễ Trì, Quận Nam T...   \n",
       "41487.0  2020-07-09  Đường Đội Cấn, Phường Ngọc Hà, Quận Ba Đình, H...   \n",
       "17856.0  2020-07-25  đường ngọc thụy, Phường Ngọc Thụy, Quận Long B...   \n",
       "76177.0  2020-06-11  Đường Tam Trinh, Phường Mai Động, Quận Hoàng M...   \n",
       "53827.0  2020-06-29  Đường Lê Trọng Tấn, Phường Thanh Xuân Bắc, Quậ...   \n",
       "38368.0  2020-07-11       Ỷ La, Phường Dương Nội, Quận Hà Đông, Hà Nội   \n",
       "14113.0  2020-07-28  nguyễn viết xuân, Phường Quang Trung, Quận Hà ...   \n",
       "1123.0   2020-08-04  Đường Cổ Linh, Phường Sài Đồng, Quận Long Biên...   \n",
       "\n",
       "                     Quận                  Huyện        Loại hình nhà ở  \\\n",
       "62489.0     Quận Cầu Giấy   Phường Dịch Vọng Hậu  Nhà mặt phố, mặt tiền   \n",
       "6612.0    Quận Thanh Xuân     Phường Thượng Đình           Nhà ngõ, hẻm   \n",
       "19033.0  Quận Nam Từ Liêm          Phường Mễ Trì           Nhà ngõ, hẻm   \n",
       "41487.0      Quận Ba Đình         Phường Ngọc Hà           Nhà ngõ, hẻm   \n",
       "17856.0    Quận Long Biên       Phường Ngọc Thụy  Nhà mặt phố, mặt tiền   \n",
       "76177.0    Quận Hoàng Mai        Phường Mai Động           Nhà ngõ, hẻm   \n",
       "53827.0   Quận Thanh Xuân  Phường Thanh Xuân Bắc           Nhà ngõ, hẻm   \n",
       "38368.0      Quận Hà Đông       Phường Dương Nội  Nhà mặt phố, mặt tiền   \n",
       "14113.0      Quận Hà Đông     Phường Quang Trung           Nhà ngõ, hẻm   \n",
       "1123.0     Quận Long Biên        Phường Sài Đồng           Nhà ngõ, hẻm   \n",
       "\n",
       "        Giấy tờ pháp lý Số tầng Số phòng ngủ Diện tích   Dài   Rộng  \\\n",
       "62489.0        Đã có sổ       6      5 phòng     60 m²  20 m    5 m   \n",
       "6612.0         Đã có sổ       5      3 phòng     35 m²   NaN  3.5 m   \n",
       "19033.0        Đã có sổ     NaN      4 phòng     45 m²   NaN    NaN   \n",
       "41487.0        Đã có sổ       6      6 phòng     50 m²   NaN    NaN   \n",
       "17856.0        Đã có sổ       5      3 phòng     42 m²  10 m    4 m   \n",
       "76177.0        Đã có sổ     NaN      3 phòng     31 m²   NaN    4 m   \n",
       "53827.0             NaN     NaN      3 phòng     45 m²   NaN    NaN   \n",
       "38368.0             NaN     NaN      5 phòng     79 m²   NaN    NaN   \n",
       "14113.0             NaN     NaN      4 phòng     46 m²   NaN    NaN   \n",
       "1123.0         Đã có sổ       5      6 phòng     40 m²   NaN  3.8 m   \n",
       "\n",
       "                  Giá/m2  \n",
       "62489.0     300 triệu/m²  \n",
       "6612.0   105,71 triệu/m²  \n",
       "19033.0   66,67 triệu/m²  \n",
       "41487.0     126 triệu/m²  \n",
       "17856.0   80,95 triệu/m²  \n",
       "76177.0   64,52 triệu/m²  \n",
       "53827.0   67,78 triệu/m²  \n",
       "38368.0   33,54 triệu/m²  \n",
       "14113.0   84,57 triệu/m²  \n",
       "1123.0       70 triệu/m²  "
      ]
     },
     "execution_count": 70,
     "metadata": {},
     "output_type": "execute_result"
    }
   ],
   "source": [
    "df.sample(10)"
   ]
  },
  {
   "cell_type": "markdown",
   "metadata": {},
   "source": [
    "#### Dữ liệu các dòng có bị lặp hay không?"
   ]
  },
  {
   "cell_type": "code",
   "execution_count": 71,
   "metadata": {
    "execution": {
     "iopub.execute_input": "2022-06-22T03:13:19.469311Z",
     "iopub.status.busy": "2022-06-22T03:13:19.468565Z",
     "iopub.status.idle": "2022-06-22T03:13:19.659503Z",
     "shell.execute_reply": "2022-06-22T03:13:19.658763Z",
     "shell.execute_reply.started": "2022-06-22T03:13:19.46926Z"
    }
   },
   "outputs": [
    {
     "data": {
      "text/html": [
       "<div>\n",
       "<style scoped>\n",
       "    .dataframe tbody tr th:only-of-type {\n",
       "        vertical-align: middle;\n",
       "    }\n",
       "\n",
       "    .dataframe tbody tr th {\n",
       "        vertical-align: top;\n",
       "    }\n",
       "\n",
       "    .dataframe thead th {\n",
       "        text-align: right;\n",
       "    }\n",
       "</style>\n",
       "<table border=\"1\" class=\"dataframe\">\n",
       "  <thead>\n",
       "    <tr style=\"text-align: right;\">\n",
       "      <th></th>\n",
       "      <th>Ngày</th>\n",
       "      <th>Địa chỉ</th>\n",
       "      <th>Quận</th>\n",
       "      <th>Huyện</th>\n",
       "      <th>Loại hình nhà ở</th>\n",
       "      <th>Giấy tờ pháp lý</th>\n",
       "      <th>Số tầng</th>\n",
       "      <th>Số phòng ngủ</th>\n",
       "      <th>Diện tích</th>\n",
       "      <th>Dài</th>\n",
       "      <th>Rộng</th>\n",
       "      <th>Giá/m2</th>\n",
       "    </tr>\n",
       "  </thead>\n",
       "  <tbody>\n",
       "    <tr>\n",
       "      <th>168.0</th>\n",
       "      <td>2020-08-04</td>\n",
       "      <td>Đường Đông Thiên, Phường Vĩnh Hưng, Quận Hoàng...</td>\n",
       "      <td>Quận Hoàng Mai</td>\n",
       "      <td>Phường Vĩnh Hưng</td>\n",
       "      <td>Nhà ngõ, hẻm</td>\n",
       "      <td>Đã có sổ</td>\n",
       "      <td>NaN</td>\n",
       "      <td>3 phòng</td>\n",
       "      <td>30 m²</td>\n",
       "      <td>NaN</td>\n",
       "      <td>NaN</td>\n",
       "      <td>70 triệu/m²</td>\n",
       "    </tr>\n",
       "    <tr>\n",
       "      <th>418.0</th>\n",
       "      <td>2020-08-04</td>\n",
       "      <td>Đường Giải Phóng, Phường Giáp Bát, Quận Hoàng ...</td>\n",
       "      <td>Quận Hoàng Mai</td>\n",
       "      <td>Phường Giáp Bát</td>\n",
       "      <td>Nhà ngõ, hẻm</td>\n",
       "      <td>Đã có sổ</td>\n",
       "      <td>NaN</td>\n",
       "      <td>4 phòng</td>\n",
       "      <td>60 m²</td>\n",
       "      <td>NaN</td>\n",
       "      <td>NaN</td>\n",
       "      <td>58,33 triệu/m²</td>\n",
       "    </tr>\n",
       "    <tr>\n",
       "      <th>795.0</th>\n",
       "      <td>2020-08-04</td>\n",
       "      <td>Đường Bạch Mai, Phường Bạch Mai, Quận Hai Bà T...</td>\n",
       "      <td>Quận Hai Bà Trưng</td>\n",
       "      <td>Phường Bạch Mai</td>\n",
       "      <td>Nhà ngõ, hẻm</td>\n",
       "      <td>NaN</td>\n",
       "      <td>NaN</td>\n",
       "      <td>4 phòng</td>\n",
       "      <td>45 m²</td>\n",
       "      <td>NaN</td>\n",
       "      <td>NaN</td>\n",
       "      <td>88,89 triệu/m²</td>\n",
       "    </tr>\n",
       "    <tr>\n",
       "      <th>866.0</th>\n",
       "      <td>2020-08-04</td>\n",
       "      <td>Đường Đội Cấn, Phường Đội Cấn, Quận Ba Đình, H...</td>\n",
       "      <td>Quận Ba Đình</td>\n",
       "      <td>Phường Đội Cấn</td>\n",
       "      <td>Nhà ngõ, hẻm</td>\n",
       "      <td>NaN</td>\n",
       "      <td>NaN</td>\n",
       "      <td>4 phòng</td>\n",
       "      <td>60 m²</td>\n",
       "      <td>NaN</td>\n",
       "      <td>NaN</td>\n",
       "      <td>76,67 triệu/m²</td>\n",
       "    </tr>\n",
       "    <tr>\n",
       "      <th>946.0</th>\n",
       "      <td>2020-08-04</td>\n",
       "      <td>Đường Nhân Hòa, Phường Nhân Chính, Quận Thanh ...</td>\n",
       "      <td>Quận Thanh Xuân</td>\n",
       "      <td>Phường Nhân Chính</td>\n",
       "      <td>Nhà ngõ, hẻm</td>\n",
       "      <td>NaN</td>\n",
       "      <td>NaN</td>\n",
       "      <td>3 phòng</td>\n",
       "      <td>42 m²</td>\n",
       "      <td>NaN</td>\n",
       "      <td>NaN</td>\n",
       "      <td>114,29 triệu/m²</td>\n",
       "    </tr>\n",
       "    <tr>\n",
       "      <th>...</th>\n",
       "      <td>...</td>\n",
       "      <td>...</td>\n",
       "      <td>...</td>\n",
       "      <td>...</td>\n",
       "      <td>...</td>\n",
       "      <td>...</td>\n",
       "      <td>...</td>\n",
       "      <td>...</td>\n",
       "      <td>...</td>\n",
       "      <td>...</td>\n",
       "      <td>...</td>\n",
       "      <td>...</td>\n",
       "    </tr>\n",
       "    <tr>\n",
       "      <th>81446.0</th>\n",
       "      <td>2020-06-06</td>\n",
       "      <td>Đường Giáp Bát, Phường Giáp Bát, Quận Hoàng Ma...</td>\n",
       "      <td>Quận Hoàng Mai</td>\n",
       "      <td>Phường Giáp Bát</td>\n",
       "      <td>Nhà ngõ, hẻm</td>\n",
       "      <td>Đã có sổ</td>\n",
       "      <td>5</td>\n",
       "      <td>3 phòng</td>\n",
       "      <td>48 m²</td>\n",
       "      <td>NaN</td>\n",
       "      <td>NaN</td>\n",
       "      <td>72,92 triệu/m²</td>\n",
       "    </tr>\n",
       "    <tr>\n",
       "      <th>81604.0</th>\n",
       "      <td>2020-06-06</td>\n",
       "      <td>Đường Phạm Ngọc Thạch, Phường Kim Liên, Quận Đ...</td>\n",
       "      <td>Quận Đống Đa</td>\n",
       "      <td>Phường Kim Liên</td>\n",
       "      <td>Nhà ngõ, hẻm</td>\n",
       "      <td>Đã có sổ</td>\n",
       "      <td>NaN</td>\n",
       "      <td>2 phòng</td>\n",
       "      <td>40 m²</td>\n",
       "      <td>NaN</td>\n",
       "      <td>NaN</td>\n",
       "      <td>60 triệu/m²</td>\n",
       "    </tr>\n",
       "    <tr>\n",
       "      <th>81624.0</th>\n",
       "      <td>2020-06-06</td>\n",
       "      <td>Đường Phạm Ngọc Thạch, Phường Kim Liên, Quận Đ...</td>\n",
       "      <td>Quận Đống Đa</td>\n",
       "      <td>Phường Kim Liên</td>\n",
       "      <td>Nhà ngõ, hẻm</td>\n",
       "      <td>Đã có sổ</td>\n",
       "      <td>NaN</td>\n",
       "      <td>2 phòng</td>\n",
       "      <td>40 m²</td>\n",
       "      <td>NaN</td>\n",
       "      <td>NaN</td>\n",
       "      <td>60 triệu/m²</td>\n",
       "    </tr>\n",
       "    <tr>\n",
       "      <th>81884.0</th>\n",
       "      <td>2020-06-06</td>\n",
       "      <td>Đường Yên Lãng, Phường Thịnh Quang, Quận Đống...</td>\n",
       "      <td>Quận Đống Đa</td>\n",
       "      <td>Phường Thịnh Quang</td>\n",
       "      <td>Nhà ngõ, hẻm</td>\n",
       "      <td>Đã có sổ</td>\n",
       "      <td>3</td>\n",
       "      <td>2 phòng</td>\n",
       "      <td>32 m²</td>\n",
       "      <td>NaN</td>\n",
       "      <td>5 m</td>\n",
       "      <td>98,44 triệu/m²</td>\n",
       "    </tr>\n",
       "    <tr>\n",
       "      <th>81928.0</th>\n",
       "      <td>2020-06-06</td>\n",
       "      <td>Đường Yên Lãng, Phường Thịnh Quang, Quận Đống...</td>\n",
       "      <td>Quận Đống Đa</td>\n",
       "      <td>Phường Thịnh Quang</td>\n",
       "      <td>Nhà ngõ, hẻm</td>\n",
       "      <td>Đã có sổ</td>\n",
       "      <td>3</td>\n",
       "      <td>2 phòng</td>\n",
       "      <td>32 m²</td>\n",
       "      <td>NaN</td>\n",
       "      <td>5 m</td>\n",
       "      <td>98,44 triệu/m²</td>\n",
       "    </tr>\n",
       "  </tbody>\n",
       "</table>\n",
       "<p>1504 rows × 12 columns</p>\n",
       "</div>"
      ],
      "text/plain": [
       "               Ngày                                            Địa chỉ  \\\n",
       "168.0    2020-08-04  Đường Đông Thiên, Phường Vĩnh Hưng, Quận Hoàng...   \n",
       "418.0    2020-08-04  Đường Giải Phóng, Phường Giáp Bát, Quận Hoàng ...   \n",
       "795.0    2020-08-04  Đường Bạch Mai, Phường Bạch Mai, Quận Hai Bà T...   \n",
       "866.0    2020-08-04  Đường Đội Cấn, Phường Đội Cấn, Quận Ba Đình, H...   \n",
       "946.0    2020-08-04  Đường Nhân Hòa, Phường Nhân Chính, Quận Thanh ...   \n",
       "...             ...                                                ...   \n",
       "81446.0  2020-06-06  Đường Giáp Bát, Phường Giáp Bát, Quận Hoàng Ma...   \n",
       "81604.0  2020-06-06  Đường Phạm Ngọc Thạch, Phường Kim Liên, Quận Đ...   \n",
       "81624.0  2020-06-06  Đường Phạm Ngọc Thạch, Phường Kim Liên, Quận Đ...   \n",
       "81884.0  2020-06-06  Đường Yên Lãng, Phường Thịnh Quang, Quận Đống...   \n",
       "81928.0  2020-06-06  Đường Yên Lãng, Phường Thịnh Quang, Quận Đống...   \n",
       "\n",
       "                      Quận               Huyện Loại hình nhà ở  \\\n",
       "168.0       Quận Hoàng Mai    Phường Vĩnh Hưng    Nhà ngõ, hẻm   \n",
       "418.0       Quận Hoàng Mai     Phường Giáp Bát    Nhà ngõ, hẻm   \n",
       "795.0    Quận Hai Bà Trưng     Phường Bạch Mai    Nhà ngõ, hẻm   \n",
       "866.0         Quận Ba Đình      Phường Đội Cấn    Nhà ngõ, hẻm   \n",
       "946.0      Quận Thanh Xuân   Phường Nhân Chính    Nhà ngõ, hẻm   \n",
       "...                    ...                 ...             ...   \n",
       "81446.0     Quận Hoàng Mai     Phường Giáp Bát    Nhà ngõ, hẻm   \n",
       "81604.0       Quận Đống Đa     Phường Kim Liên    Nhà ngõ, hẻm   \n",
       "81624.0       Quận Đống Đa     Phường Kim Liên    Nhà ngõ, hẻm   \n",
       "81884.0       Quận Đống Đa  Phường Thịnh Quang    Nhà ngõ, hẻm   \n",
       "81928.0       Quận Đống Đa  Phường Thịnh Quang    Nhà ngõ, hẻm   \n",
       "\n",
       "        Giấy tờ pháp lý Số tầng Số phòng ngủ Diện tích  Dài Rộng  \\\n",
       "168.0          Đã có sổ     NaN      3 phòng     30 m²  NaN  NaN   \n",
       "418.0          Đã có sổ     NaN      4 phòng     60 m²  NaN  NaN   \n",
       "795.0               NaN     NaN      4 phòng     45 m²  NaN  NaN   \n",
       "866.0               NaN     NaN      4 phòng     60 m²  NaN  NaN   \n",
       "946.0               NaN     NaN      3 phòng     42 m²  NaN  NaN   \n",
       "...                 ...     ...          ...       ...  ...  ...   \n",
       "81446.0        Đã có sổ       5      3 phòng     48 m²  NaN  NaN   \n",
       "81604.0        Đã có sổ     NaN      2 phòng     40 m²  NaN  NaN   \n",
       "81624.0        Đã có sổ     NaN      2 phòng     40 m²  NaN  NaN   \n",
       "81884.0        Đã có sổ       3      2 phòng     32 m²  NaN  5 m   \n",
       "81928.0        Đã có sổ       3      2 phòng     32 m²  NaN  5 m   \n",
       "\n",
       "                  Giá/m2  \n",
       "168.0        70 triệu/m²  \n",
       "418.0     58,33 triệu/m²  \n",
       "795.0     88,89 triệu/m²  \n",
       "866.0     76,67 triệu/m²  \n",
       "946.0    114,29 triệu/m²  \n",
       "...                  ...  \n",
       "81446.0   72,92 triệu/m²  \n",
       "81604.0      60 triệu/m²  \n",
       "81624.0      60 triệu/m²  \n",
       "81884.0   98,44 triệu/m²  \n",
       "81928.0   98,44 triệu/m²  \n",
       "\n",
       "[1504 rows x 12 columns]"
      ]
     },
     "execution_count": 71,
     "metadata": {},
     "output_type": "execute_result"
    }
   ],
   "source": [
    "df[df.duplicated(keep=False)]"
   ]
  },
  {
   "cell_type": "markdown",
   "metadata": {},
   "source": [
    "Vậy dữ liệu có 1504 dòng bị trùng."
   ]
  },
  {
   "cell_type": "code",
   "execution_count": 72,
   "metadata": {
    "execution": {
     "iopub.execute_input": "2022-06-22T03:13:19.661362Z",
     "iopub.status.busy": "2022-06-22T03:13:19.6606Z",
     "iopub.status.idle": "2022-06-22T03:13:19.830855Z",
     "shell.execute_reply": "2022-06-22T03:13:19.830064Z",
     "shell.execute_reply.started": "2022-06-22T03:13:19.661328Z"
    }
   },
   "outputs": [],
   "source": [
    "# drop duplicate\n",
    "df = df.drop_duplicates()"
   ]
  },
  {
   "cell_type": "code",
   "execution_count": 73,
   "metadata": {
    "execution": {
     "iopub.execute_input": "2022-06-22T03:13:19.83268Z",
     "iopub.status.busy": "2022-06-22T03:13:19.832182Z",
     "iopub.status.idle": "2022-06-22T03:13:19.874692Z",
     "shell.execute_reply": "2022-06-22T03:13:19.874036Z",
     "shell.execute_reply.started": "2022-06-22T03:13:19.83265Z"
    }
   },
   "outputs": [
    {
     "data": {
      "text/html": [
       "<div>\n",
       "<style scoped>\n",
       "    .dataframe tbody tr th:only-of-type {\n",
       "        vertical-align: middle;\n",
       "    }\n",
       "\n",
       "    .dataframe tbody tr th {\n",
       "        vertical-align: top;\n",
       "    }\n",
       "\n",
       "    .dataframe thead th {\n",
       "        text-align: right;\n",
       "    }\n",
       "</style>\n",
       "<table border=\"1\" class=\"dataframe\">\n",
       "  <thead>\n",
       "    <tr style=\"text-align: right;\">\n",
       "      <th></th>\n",
       "      <th>Ngày</th>\n",
       "      <th>Địa chỉ</th>\n",
       "      <th>Quận</th>\n",
       "      <th>Huyện</th>\n",
       "      <th>Loại hình nhà ở</th>\n",
       "      <th>Giấy tờ pháp lý</th>\n",
       "      <th>Số tầng</th>\n",
       "      <th>Số phòng ngủ</th>\n",
       "      <th>Diện tích</th>\n",
       "      <th>Dài</th>\n",
       "      <th>Rộng</th>\n",
       "      <th>Giá/m2</th>\n",
       "    </tr>\n",
       "  </thead>\n",
       "  <tbody>\n",
       "    <tr>\n",
       "      <th>0.0</th>\n",
       "      <td>2020-08-05</td>\n",
       "      <td>Đường Hoàng Quốc Việt, Phường Nghĩa Đô, Quận C...</td>\n",
       "      <td>Quận Cầu Giấy</td>\n",
       "      <td>Phường Nghĩa Đô</td>\n",
       "      <td>Nhà ngõ, hẻm</td>\n",
       "      <td>Đã có sổ</td>\n",
       "      <td>4</td>\n",
       "      <td>5 phòng</td>\n",
       "      <td>46 m²</td>\n",
       "      <td>NaN</td>\n",
       "      <td>NaN</td>\n",
       "      <td>86,96 triệu/m²</td>\n",
       "    </tr>\n",
       "    <tr>\n",
       "      <th>1.0</th>\n",
       "      <td>2020-08-05</td>\n",
       "      <td>Đường Kim Giang, Phường Kim Giang, Quận Thanh ...</td>\n",
       "      <td>Quận Thanh Xuân</td>\n",
       "      <td>Phường Kim Giang</td>\n",
       "      <td>Nhà mặt phố, mặt tiền</td>\n",
       "      <td>NaN</td>\n",
       "      <td>NaN</td>\n",
       "      <td>3 phòng</td>\n",
       "      <td>37 m²</td>\n",
       "      <td>NaN</td>\n",
       "      <td>NaN</td>\n",
       "      <td>116,22 triệu/m²</td>\n",
       "    </tr>\n",
       "    <tr>\n",
       "      <th>2.0</th>\n",
       "      <td>2020-08-05</td>\n",
       "      <td>phố minh khai, Phường Minh Khai, Quận Hai Bà T...</td>\n",
       "      <td>Quận Hai Bà Trưng</td>\n",
       "      <td>Phường Minh Khai</td>\n",
       "      <td>Nhà ngõ, hẻm</td>\n",
       "      <td>Đã có sổ</td>\n",
       "      <td>4</td>\n",
       "      <td>4 phòng</td>\n",
       "      <td>40 m²</td>\n",
       "      <td>10 m</td>\n",
       "      <td>4 m</td>\n",
       "      <td>65 triệu/m²</td>\n",
       "    </tr>\n",
       "    <tr>\n",
       "      <th>3.0</th>\n",
       "      <td>2020-08-05</td>\n",
       "      <td>Đường Võng Thị, Phường Thụy Khuê, Quận Tây Hồ,...</td>\n",
       "      <td>Quận Tây Hồ</td>\n",
       "      <td>Phường Thụy Khuê</td>\n",
       "      <td>Nhà ngõ, hẻm</td>\n",
       "      <td>Đã có sổ</td>\n",
       "      <td>NaN</td>\n",
       "      <td>6 phòng</td>\n",
       "      <td>51 m²</td>\n",
       "      <td>12.75 m</td>\n",
       "      <td>4 m</td>\n",
       "      <td>100 triệu/m²</td>\n",
       "    </tr>\n",
       "    <tr>\n",
       "      <th>4.0</th>\n",
       "      <td>2020-08-05</td>\n",
       "      <td>Đường Kim Giang, Phường Kim Giang, Quận Thanh ...</td>\n",
       "      <td>Quận Thanh Xuân</td>\n",
       "      <td>Phường Kim Giang</td>\n",
       "      <td>Nhà ngõ, hẻm</td>\n",
       "      <td>NaN</td>\n",
       "      <td>NaN</td>\n",
       "      <td>4 phòng</td>\n",
       "      <td>36 m²</td>\n",
       "      <td>9 m</td>\n",
       "      <td>4 m</td>\n",
       "      <td>86,11 triệu/m²</td>\n",
       "    </tr>\n",
       "    <tr>\n",
       "      <th>...</th>\n",
       "      <td>...</td>\n",
       "      <td>...</td>\n",
       "      <td>...</td>\n",
       "      <td>...</td>\n",
       "      <td>...</td>\n",
       "      <td>...</td>\n",
       "      <td>...</td>\n",
       "      <td>...</td>\n",
       "      <td>...</td>\n",
       "      <td>...</td>\n",
       "      <td>...</td>\n",
       "      <td>...</td>\n",
       "    </tr>\n",
       "    <tr>\n",
       "      <th>82491.0</th>\n",
       "      <td>2019-08-23</td>\n",
       "      <td>Đường Hồ Tùng Mậu, Phường Phúc Diễn, Quận Bắc ...</td>\n",
       "      <td>Quận Bắc Từ Liêm</td>\n",
       "      <td>Phường Phúc Diễn</td>\n",
       "      <td>Nhà phố liền kề</td>\n",
       "      <td>NaN</td>\n",
       "      <td>NaN</td>\n",
       "      <td>3 phòng</td>\n",
       "      <td>38 m²</td>\n",
       "      <td>NaN</td>\n",
       "      <td>NaN</td>\n",
       "      <td>81,58 triệu/m²</td>\n",
       "    </tr>\n",
       "    <tr>\n",
       "      <th>82492.0</th>\n",
       "      <td>2019-08-07</td>\n",
       "      <td>Đường Trần Quốc Hoàn, Phường Quan Hoa, Quận Cầ...</td>\n",
       "      <td>Quận Cầu Giấy</td>\n",
       "      <td>Phường Quan Hoa</td>\n",
       "      <td>Nhà mặt phố, mặt tiền</td>\n",
       "      <td>NaN</td>\n",
       "      <td>NaN</td>\n",
       "      <td>3 phòng</td>\n",
       "      <td>50 m²</td>\n",
       "      <td>NaN</td>\n",
       "      <td>NaN</td>\n",
       "      <td>292 triệu/m²</td>\n",
       "    </tr>\n",
       "    <tr>\n",
       "      <th>82493.0</th>\n",
       "      <td>2019-08-07</td>\n",
       "      <td>Đường Nguyễn Khánh Toàn, Phường Quan Hoa, Quận...</td>\n",
       "      <td>Quận Cầu Giấy</td>\n",
       "      <td>Phường Quan Hoa</td>\n",
       "      <td>Nhà mặt phố, mặt tiền</td>\n",
       "      <td>Đã có sổ</td>\n",
       "      <td>NaN</td>\n",
       "      <td>4 phòng</td>\n",
       "      <td>41 m²</td>\n",
       "      <td>NaN</td>\n",
       "      <td>NaN</td>\n",
       "      <td>341,46 triệu/m²</td>\n",
       "    </tr>\n",
       "    <tr>\n",
       "      <th>82494.0</th>\n",
       "      <td>2019-08-05</td>\n",
       "      <td>Đường Quan Hoa, Phường Quan Hoa, Quận Cầu Giấy...</td>\n",
       "      <td>Quận Cầu Giấy</td>\n",
       "      <td>Phường Quan Hoa</td>\n",
       "      <td>Nhà ngõ, hẻm</td>\n",
       "      <td>Đã có sổ</td>\n",
       "      <td>NaN</td>\n",
       "      <td>4 phòng</td>\n",
       "      <td>60 m²</td>\n",
       "      <td>NaN</td>\n",
       "      <td>NaN</td>\n",
       "      <td>101,67 triệu/m²</td>\n",
       "    </tr>\n",
       "    <tr>\n",
       "      <th>82495.0</th>\n",
       "      <td>2019-08-05</td>\n",
       "      <td>Đường Hồ Tùng Mậu, Phường Mai Dịch, Quận Cầu G...</td>\n",
       "      <td>Quận Cầu Giấy</td>\n",
       "      <td>Phường Mai Dịch</td>\n",
       "      <td>Nhà phố liền kề</td>\n",
       "      <td>NaN</td>\n",
       "      <td>NaN</td>\n",
       "      <td>4 phòng</td>\n",
       "      <td>45 m²</td>\n",
       "      <td>NaN</td>\n",
       "      <td>NaN</td>\n",
       "      <td>102,22 triệu/m²</td>\n",
       "    </tr>\n",
       "  </tbody>\n",
       "</table>\n",
       "<p>81681 rows × 12 columns</p>\n",
       "</div>"
      ],
      "text/plain": [
       "               Ngày                                            Địa chỉ  \\\n",
       "0.0      2020-08-05  Đường Hoàng Quốc Việt, Phường Nghĩa Đô, Quận C...   \n",
       "1.0      2020-08-05  Đường Kim Giang, Phường Kim Giang, Quận Thanh ...   \n",
       "2.0      2020-08-05  phố minh khai, Phường Minh Khai, Quận Hai Bà T...   \n",
       "3.0      2020-08-05  Đường Võng Thị, Phường Thụy Khuê, Quận Tây Hồ,...   \n",
       "4.0      2020-08-05  Đường Kim Giang, Phường Kim Giang, Quận Thanh ...   \n",
       "...             ...                                                ...   \n",
       "82491.0  2019-08-23  Đường Hồ Tùng Mậu, Phường Phúc Diễn, Quận Bắc ...   \n",
       "82492.0  2019-08-07  Đường Trần Quốc Hoàn, Phường Quan Hoa, Quận Cầ...   \n",
       "82493.0  2019-08-07  Đường Nguyễn Khánh Toàn, Phường Quan Hoa, Quận...   \n",
       "82494.0  2019-08-05  Đường Quan Hoa, Phường Quan Hoa, Quận Cầu Giấy...   \n",
       "82495.0  2019-08-05  Đường Hồ Tùng Mậu, Phường Mai Dịch, Quận Cầu G...   \n",
       "\n",
       "                      Quận             Huyện        Loại hình nhà ở  \\\n",
       "0.0          Quận Cầu Giấy   Phường Nghĩa Đô           Nhà ngõ, hẻm   \n",
       "1.0        Quận Thanh Xuân  Phường Kim Giang  Nhà mặt phố, mặt tiền   \n",
       "2.0      Quận Hai Bà Trưng  Phường Minh Khai           Nhà ngõ, hẻm   \n",
       "3.0            Quận Tây Hồ  Phường Thụy Khuê           Nhà ngõ, hẻm   \n",
       "4.0        Quận Thanh Xuân  Phường Kim Giang           Nhà ngõ, hẻm   \n",
       "...                    ...               ...                    ...   \n",
       "82491.0   Quận Bắc Từ Liêm  Phường Phúc Diễn        Nhà phố liền kề   \n",
       "82492.0      Quận Cầu Giấy   Phường Quan Hoa  Nhà mặt phố, mặt tiền   \n",
       "82493.0      Quận Cầu Giấy   Phường Quan Hoa  Nhà mặt phố, mặt tiền   \n",
       "82494.0      Quận Cầu Giấy   Phường Quan Hoa           Nhà ngõ, hẻm   \n",
       "82495.0      Quận Cầu Giấy   Phường Mai Dịch        Nhà phố liền kề   \n",
       "\n",
       "        Giấy tờ pháp lý Số tầng Số phòng ngủ Diện tích      Dài Rộng  \\\n",
       "0.0            Đã có sổ       4      5 phòng     46 m²      NaN  NaN   \n",
       "1.0                 NaN     NaN      3 phòng     37 m²      NaN  NaN   \n",
       "2.0            Đã có sổ       4      4 phòng     40 m²     10 m  4 m   \n",
       "3.0            Đã có sổ     NaN      6 phòng     51 m²  12.75 m  4 m   \n",
       "4.0                 NaN     NaN      4 phòng     36 m²      9 m  4 m   \n",
       "...                 ...     ...          ...       ...      ...  ...   \n",
       "82491.0             NaN     NaN      3 phòng     38 m²      NaN  NaN   \n",
       "82492.0             NaN     NaN      3 phòng     50 m²      NaN  NaN   \n",
       "82493.0        Đã có sổ     NaN      4 phòng     41 m²      NaN  NaN   \n",
       "82494.0        Đã có sổ     NaN      4 phòng     60 m²      NaN  NaN   \n",
       "82495.0             NaN     NaN      4 phòng     45 m²      NaN  NaN   \n",
       "\n",
       "                  Giá/m2  \n",
       "0.0       86,96 triệu/m²  \n",
       "1.0      116,22 triệu/m²  \n",
       "2.0          65 triệu/m²  \n",
       "3.0         100 triệu/m²  \n",
       "4.0       86,11 triệu/m²  \n",
       "...                  ...  \n",
       "82491.0   81,58 triệu/m²  \n",
       "82492.0     292 triệu/m²  \n",
       "82493.0  341,46 triệu/m²  \n",
       "82494.0  101,67 triệu/m²  \n",
       "82495.0  102,22 triệu/m²  \n",
       "\n",
       "[81681 rows x 12 columns]"
      ]
     },
     "execution_count": 73,
     "metadata": {},
     "output_type": "execute_result"
    }
   ],
   "source": [
    "df.drop(df.tail(1).index,inplace=True)\n",
    "df"
   ]
  },
  {
   "cell_type": "markdown",
   "metadata": {},
   "source": [
    "#### Các cột dữ liệu"
   ]
  },
  {
   "cell_type": "markdown",
   "metadata": {
    "execution": {
     "iopub.execute_input": "2022-06-16T14:07:28.608356Z",
     "iopub.status.busy": "2022-06-16T14:07:28.607244Z",
     "iopub.status.idle": "2022-06-16T14:07:28.612662Z",
     "shell.execute_reply": "2022-06-16T14:07:28.611639Z",
     "shell.execute_reply.started": "2022-06-16T14:07:28.608302Z"
    }
   },
   "source": [
    "#### Ý nghĩa các cột"
   ]
  },
  {
   "cell_type": "code",
   "execution_count": 74,
   "metadata": {
    "execution": {
     "iopub.execute_input": "2022-06-22T03:13:19.876402Z",
     "iopub.status.busy": "2022-06-22T03:13:19.875943Z",
     "iopub.status.idle": "2022-06-22T03:13:19.882136Z",
     "shell.execute_reply": "2022-06-22T03:13:19.881345Z",
     "shell.execute_reply.started": "2022-06-22T03:13:19.876372Z"
    }
   },
   "outputs": [
    {
     "data": {
      "text/plain": [
       "['Ngày',\n",
       " 'Địa chỉ',\n",
       " 'Quận',\n",
       " 'Huyện',\n",
       " 'Loại hình nhà ở',\n",
       " 'Giấy tờ pháp lý',\n",
       " 'Số tầng',\n",
       " 'Số phòng ngủ',\n",
       " 'Diện tích',\n",
       " 'Dài',\n",
       " 'Rộng',\n",
       " 'Giá/m2']"
      ]
     },
     "execution_count": 74,
     "metadata": {},
     "output_type": "execute_result"
    }
   ],
   "source": [
    "list(df.columns.values)"
   ]
  },
  {
   "cell_type": "markdown",
   "metadata": {},
   "source": [
    "#### Mỗi cột hiện đang có kiểu dữ liệu gì? Có cột nào có kiểu dữ liệu chưa phù hợp để có thể xử lý tiếp không?"
   ]
  },
  {
   "cell_type": "code",
   "execution_count": 75,
   "metadata": {
    "execution": {
     "iopub.execute_input": "2022-06-22T03:13:19.883913Z",
     "iopub.status.busy": "2022-06-22T03:13:19.883545Z",
     "iopub.status.idle": "2022-06-22T03:13:19.893959Z",
     "shell.execute_reply": "2022-06-22T03:13:19.893277Z",
     "shell.execute_reply.started": "2022-06-22T03:13:19.883873Z"
    }
   },
   "outputs": [
    {
     "data": {
      "text/plain": [
       "Ngày               object\n",
       "Địa chỉ            object\n",
       "Quận               object\n",
       "Huyện              object\n",
       "Loại hình nhà ở    object\n",
       "Giấy tờ pháp lý    object\n",
       "Số tầng            object\n",
       "Số phòng ngủ       object\n",
       "Diện tích          object\n",
       "Dài                object\n",
       "Rộng               object\n",
       "Giá/m2             object\n",
       "dtype: object"
      ]
     },
     "execution_count": 75,
     "metadata": {},
     "output_type": "execute_result"
    }
   ],
   "source": [
    "df.dtypes"
   ]
  },
  {
   "cell_type": "markdown",
   "metadata": {
    "execution": {
     "iopub.execute_input": "2022-06-16T14:08:20.039897Z",
     "iopub.status.busy": "2022-06-16T14:08:20.039284Z",
     "iopub.status.idle": "2022-06-16T14:08:20.048004Z",
     "shell.execute_reply": "2022-06-16T14:08:20.04695Z",
     "shell.execute_reply.started": "2022-06-16T14:08:20.039863Z"
    }
   },
   "source": [
    "Xem xét các cột ở trên ở phần này ta sẽ thực hiện các bước sau: <br>\n",
    "- Cột ngày chuyển về dạng datetime\n",
    "- Cột Số tầng, Số phòng ngủ, Diện tích, Dài, Rộng, Giá chuyển về dạng sô."
   ]
  },
  {
   "cell_type": "code",
   "execution_count": 76,
   "metadata": {
    "execution": {
     "iopub.execute_input": "2022-06-22T03:13:19.895783Z",
     "iopub.status.busy": "2022-06-22T03:13:19.895071Z",
     "iopub.status.idle": "2022-06-22T03:13:19.93132Z",
     "shell.execute_reply": "2022-06-22T03:13:19.930589Z",
     "shell.execute_reply.started": "2022-06-22T03:13:19.895744Z"
    }
   },
   "outputs": [],
   "source": [
    "# column Ngày\n",
    "df['Ngày'] = pd.to_datetime(df['Ngày'])"
   ]
  },
  {
   "cell_type": "code",
   "execution_count": 77,
   "metadata": {
    "execution": {
     "iopub.execute_input": "2022-06-22T03:13:19.932856Z",
     "iopub.status.busy": "2022-06-22T03:13:19.932524Z",
     "iopub.status.idle": "2022-06-22T03:13:20.388815Z",
     "shell.execute_reply": "2022-06-22T03:13:20.387763Z",
     "shell.execute_reply.started": "2022-06-22T03:13:19.932827Z"
    }
   },
   "outputs": [
    {
     "name": "stderr",
     "output_type": "stream",
     "text": [
      "C:\\Users\\ADMIN\\AppData\\Local\\Temp\\ipykernel_17156\\870488693.py:3: SettingWithCopyWarning: \n",
      "A value is trying to be set on a copy of a slice from a DataFrame\n",
      "\n",
      "See the caveats in the documentation: https://pandas.pydata.org/pandas-docs/stable/user_guide/indexing.html#returning-a-view-versus-a-copy\n",
      "  df['Số tầng'][df['Số tầng'] == 'Nhiều hơn 10'] = 11\n",
      "C:\\Users\\ADMIN\\AppData\\Local\\Temp\\ipykernel_17156\\870488693.py:6: SettingWithCopyWarning: \n",
      "A value is trying to be set on a copy of a slice from a DataFrame\n",
      "\n",
      "See the caveats in the documentation: https://pandas.pydata.org/pandas-docs/stable/user_guide/indexing.html#returning-a-view-versus-a-copy\n",
      "  df['Số phòng ngủ'][df['Số phòng ngủ'] == 'nhiều hơn 10 phòng'] = '11 phòng'\n"
     ]
    }
   ],
   "source": [
    "# column Số tầng, Số phòng ngủ\n",
    "# đối với số tầng nếu giá trị là nhiều hơn 10 ta mặc định là 11\n",
    "df['Số tầng'][df['Số tầng'] == 'Nhiều hơn 10'] = 11\n",
    "df['Số tầng'] = pd.to_numeric(df['Số tầng'])\n",
    "\n",
    "df['Số phòng ngủ'][df['Số phòng ngủ'] == 'nhiều hơn 10 phòng'] = '11 phòng'\n",
    "df['Số phòng ngủ'] = df['Số phòng ngủ'].str.split()\n",
    "df['Số phòng ngủ'] = df['Số phòng ngủ'].str[0]\n",
    "df['Số phòng ngủ'] = pd.to_numeric(df['Số phòng ngủ'])"
   ]
  },
  {
   "cell_type": "code",
   "execution_count": 78,
   "metadata": {
    "execution": {
     "iopub.execute_input": "2022-06-22T03:13:20.390644Z",
     "iopub.status.busy": "2022-06-22T03:13:20.390176Z",
     "iopub.status.idle": "2022-06-22T03:13:21.01503Z",
     "shell.execute_reply": "2022-06-22T03:13:21.014267Z",
     "shell.execute_reply.started": "2022-06-22T03:13:20.390602Z"
    }
   },
   "outputs": [],
   "source": [
    "# column Diện tích, Dài, Rộng, Giá\n",
    "df['Diện tích'] = df['Diện tích'].str.split().str[0]\n",
    "df['Dài'] = df['Dài'].str.split().str[0]\n",
    "df['Rộng'] = df['Rộng'].str.split().str[0]\n",
    "# df['Giá/m2'] = df['Giá/m2'].str.split().str[0]\n",
    "# df['Giá/m2'] = df['Giá/m2'].str.replace(',', '')\n",
    "\n",
    "df['Diện tích'] = pd.to_numeric(df['Diện tích'])\n",
    "df['Dài'] = pd.to_numeric(df['Dài'])\n",
    "df['Rộng'] = pd.to_numeric(df['Rộng'])\n",
    "# df['Giá/m2'] = pd.to_numeric(df['Giá/m2'])"
   ]
  },
  {
   "cell_type": "code",
   "execution_count": 79,
   "metadata": {
    "execution": {
     "iopub.execute_input": "2022-06-22T03:13:21.018756Z",
     "iopub.status.busy": "2022-06-22T03:13:21.018081Z",
     "iopub.status.idle": "2022-06-22T03:13:21.337613Z",
     "shell.execute_reply": "2022-06-22T03:13:21.336549Z",
     "shell.execute_reply.started": "2022-06-22T03:13:21.01869Z"
    }
   },
   "outputs": [],
   "source": [
    "def transform(x):\n",
    "    #print(x)\n",
    "    if 'triệu/m²' in str(x):\n",
    "        if ',' in str(x):\n",
    "            number0 = len(x.split(',')[1].split(' ')[0])\n",
    "            x = str(x).replace(',','').replace(' triệu/m²',(9-number0)*'0')\n",
    "        else:\n",
    "            x = str(x).replace(' triệu/m²',9*'0')\n",
    "    if 'tỷ/m²' in str(x):\n",
    "        if ',' in str(x):\n",
    "            number0 = len(x.split(',')[1].split(' ')[0])\n",
    "            x = str(x).replace(',','').replace(' tỷ/m²',(12-number0)*'0')\n",
    "        else:\n",
    "            x = str(x).replace(' tỷ/m²',12*'0')\n",
    "    x = str(x).replace(' đ/m²','')\n",
    "    return float(x)\n",
    "df['Giá'] = df['Giá/m2'].apply(transform)"
   ]
  },
  {
   "cell_type": "code",
   "execution_count": 80,
   "metadata": {
    "execution": {
     "iopub.execute_input": "2022-06-22T03:13:21.339031Z",
     "iopub.status.busy": "2022-06-22T03:13:21.338692Z",
     "iopub.status.idle": "2022-06-22T03:13:21.348093Z",
     "shell.execute_reply": "2022-06-22T03:13:21.34716Z",
     "shell.execute_reply.started": "2022-06-22T03:13:21.338994Z"
    }
   },
   "outputs": [
    {
     "data": {
      "text/plain": [
       "0.0        8.696000e+10\n",
       "1.0        1.162200e+11\n",
       "2.0        6.500000e+10\n",
       "3.0        1.000000e+11\n",
       "4.0        8.611000e+10\n",
       "               ...     \n",
       "82491.0    8.158000e+10\n",
       "82492.0    2.920000e+11\n",
       "82493.0    3.414600e+11\n",
       "82494.0    1.016700e+11\n",
       "82495.0    1.022200e+11\n",
       "Name: Giá, Length: 81681, dtype: float64"
      ]
     },
     "execution_count": 80,
     "metadata": {},
     "output_type": "execute_result"
    }
   ],
   "source": [
    "df['Giá']"
   ]
  },
  {
   "cell_type": "markdown",
   "metadata": {},
   "source": [
    "Bây giờ thì các dữ liệu đều đã ở dạng phù hợp để xử lý."
   ]
  },
  {
   "cell_type": "markdown",
   "metadata": {
    "execution": {
     "iopub.execute_input": "2022-06-17T07:36:23.34037Z",
     "iopub.status.busy": "2022-06-17T07:36:23.339989Z",
     "iopub.status.idle": "2022-06-17T07:36:23.348423Z",
     "shell.execute_reply": "2022-06-17T07:36:23.347447Z",
     "shell.execute_reply.started": "2022-06-17T07:36:23.340336Z"
    }
   },
   "source": [
    "#### Với mỗi cột có kiểu dữ liệu dạng số (numerical), các giá trị được phân bố như thế nào"
   ]
  },
  {
   "cell_type": "markdown",
   "metadata": {},
   "source": [
    "Vì trong các cột có kiểu dữ liệu dạng số, có vài cột có ít hơn 25 giá trị khác nhau nên ta sẽ xét chúng vào nhóm kiểu dữ liệu dạng phân loại"
   ]
  },
  {
   "cell_type": "code",
   "execution_count": 81,
   "metadata": {
    "execution": {
     "iopub.execute_input": "2022-06-22T03:13:21.349687Z",
     "iopub.status.busy": "2022-06-22T03:13:21.349375Z",
     "iopub.status.idle": "2022-06-22T03:13:21.424971Z",
     "shell.execute_reply": "2022-06-22T03:13:21.424046Z",
     "shell.execute_reply.started": "2022-06-22T03:13:21.349658Z"
    }
   },
   "outputs": [
    {
     "data": {
      "text/plain": [
       "['Loại hình nhà ở',\n",
       " 'Giấy tờ pháp lý',\n",
       " 'Số phòng ngủ',\n",
       " 'Ngày',\n",
       " 'Địa chỉ',\n",
       " 'Quận',\n",
       " 'Huyện',\n",
       " 'Loại hình nhà ở',\n",
       " 'Giấy tờ pháp lý',\n",
       " 'Giá/m2']"
      ]
     },
     "execution_count": 81,
     "metadata": {},
     "output_type": "execute_result"
    }
   ],
   "source": [
    "unique_counts = df.nunique() < 25\n",
    "categorical  = unique_counts[unique_counts == True].index.tolist()\n",
    "categorical.extend(df.select_dtypes(exclude=[\"number\",\"bool_\",]).columns.tolist())\n",
    "categorical"
   ]
  },
  {
   "cell_type": "markdown",
   "metadata": {},
   "source": [
    "Do đó các cột có kiểu dữ liệu dạng số sẽ là các cột còn lại:"
   ]
  },
  {
   "cell_type": "code",
   "execution_count": 82,
   "metadata": {
    "execution": {
     "iopub.execute_input": "2022-06-22T03:13:21.426635Z",
     "iopub.status.busy": "2022-06-22T03:13:21.426293Z",
     "iopub.status.idle": "2022-06-22T03:13:21.433391Z",
     "shell.execute_reply": "2022-06-22T03:13:21.432531Z",
     "shell.execute_reply.started": "2022-06-22T03:13:21.426605Z"
    }
   },
   "outputs": [
    {
     "data": {
      "text/plain": [
       "['Số tầng', 'Diện tích', 'Dài', 'Rộng', 'Giá']"
      ]
     },
     "execution_count": 82,
     "metadata": {},
     "output_type": "execute_result"
    }
   ],
   "source": [
    "numeric = [x for x in df.columns.tolist() if x not in categorical]\n",
    "numeric"
   ]
  },
  {
   "cell_type": "markdown",
   "metadata": {},
   "source": [
    "Ở phần này, với các cột có kiểu dữ liệu số để hiểu thêm về dữ liệu, ta sẽ tính:\n",
    "\n",
    "- Số các giá trị thiếu\n",
    "- Tỉ lệ % (từ 0 đến 100) các giá trị thiếu\n",
    "- Giá trị min\n",
    "- Giá trị median\n",
    "- Giá trị max"
   ]
  },
  {
   "cell_type": "code",
   "execution_count": 83,
   "metadata": {
    "execution": {
     "iopub.execute_input": "2022-06-22T03:13:21.435088Z",
     "iopub.status.busy": "2022-06-22T03:13:21.434657Z",
     "iopub.status.idle": "2022-06-22T03:13:21.521061Z",
     "shell.execute_reply": "2022-06-22T03:13:21.520207Z",
     "shell.execute_reply.started": "2022-06-22T03:13:21.435048Z"
    }
   },
   "outputs": [
    {
     "data": {
      "text/html": [
       "<div>\n",
       "<style scoped>\n",
       "    .dataframe tbody tr th:only-of-type {\n",
       "        vertical-align: middle;\n",
       "    }\n",
       "\n",
       "    .dataframe tbody tr th {\n",
       "        vertical-align: top;\n",
       "    }\n",
       "\n",
       "    .dataframe thead th {\n",
       "        text-align: right;\n",
       "    }\n",
       "</style>\n",
       "<table border=\"1\" class=\"dataframe\">\n",
       "  <thead>\n",
       "    <tr style=\"text-align: right;\">\n",
       "      <th></th>\n",
       "      <th>Số tầng</th>\n",
       "      <th>Diện tích</th>\n",
       "      <th>Dài</th>\n",
       "      <th>Rộng</th>\n",
       "      <th>Giá</th>\n",
       "    </tr>\n",
       "  </thead>\n",
       "  <tbody>\n",
       "    <tr>\n",
       "      <th>num_missing</th>\n",
       "      <td>45462.000000</td>\n",
       "      <td>1.000000</td>\n",
       "      <td>61933.000000</td>\n",
       "      <td>46384.000000</td>\n",
       "      <td>1.200000e+01</td>\n",
       "    </tr>\n",
       "    <tr>\n",
       "      <th>missing_percentage</th>\n",
       "      <td>55.700000</td>\n",
       "      <td>0.000000</td>\n",
       "      <td>75.800000</td>\n",
       "      <td>56.800000</td>\n",
       "      <td>0.000000e+00</td>\n",
       "    </tr>\n",
       "    <tr>\n",
       "      <th>mean</th>\n",
       "      <td>4.463072</td>\n",
       "      <td>51.466923</td>\n",
       "      <td>90.080395</td>\n",
       "      <td>37.955145</td>\n",
       "      <td>1.116488e+11</td>\n",
       "    </tr>\n",
       "    <tr>\n",
       "      <th>min</th>\n",
       "      <td>1.000000</td>\n",
       "      <td>1.000000</td>\n",
       "      <td>1.000000</td>\n",
       "      <td>1.000000</td>\n",
       "      <td>1.000000e+00</td>\n",
       "    </tr>\n",
       "    <tr>\n",
       "      <th>lower_quartile</th>\n",
       "      <td>4.000000</td>\n",
       "      <td>34.000000</td>\n",
       "      <td>8.000000</td>\n",
       "      <td>4.000000</td>\n",
       "      <td>7.273000e+10</td>\n",
       "    </tr>\n",
       "    <tr>\n",
       "      <th>median</th>\n",
       "      <td>5.000000</td>\n",
       "      <td>40.000000</td>\n",
       "      <td>10.000000</td>\n",
       "      <td>4.000000</td>\n",
       "      <td>8.960000e+10</td>\n",
       "    </tr>\n",
       "    <tr>\n",
       "      <th>upper_quartile</th>\n",
       "      <td>5.000000</td>\n",
       "      <td>50.000000</td>\n",
       "      <td>12.000000</td>\n",
       "      <td>5.000000</td>\n",
       "      <td>1.105300e+11</td>\n",
       "    </tr>\n",
       "    <tr>\n",
       "      <th>max</th>\n",
       "      <td>73.000000</td>\n",
       "      <td>111411.000000</td>\n",
       "      <td>900000.000000</td>\n",
       "      <td>423432.000000</td>\n",
       "      <td>1.240000e+14</td>\n",
       "    </tr>\n",
       "  </tbody>\n",
       "</table>\n",
       "</div>"
      ],
      "text/plain": [
       "                         Số tầng      Diện tích            Dài           Rộng  \\\n",
       "num_missing         45462.000000       1.000000   61933.000000   46384.000000   \n",
       "missing_percentage     55.700000       0.000000      75.800000      56.800000   \n",
       "mean                    4.463072      51.466923      90.080395      37.955145   \n",
       "min                     1.000000       1.000000       1.000000       1.000000   \n",
       "lower_quartile          4.000000      34.000000       8.000000       4.000000   \n",
       "median                  5.000000      40.000000      10.000000       4.000000   \n",
       "upper_quartile          5.000000      50.000000      12.000000       5.000000   \n",
       "max                    73.000000  111411.000000  900000.000000  423432.000000   \n",
       "\n",
       "                             Giá  \n",
       "num_missing         1.200000e+01  \n",
       "missing_percentage  0.000000e+00  \n",
       "mean                1.116488e+11  \n",
       "min                 1.000000e+00  \n",
       "lower_quartile      7.273000e+10  \n",
       "median              8.960000e+10  \n",
       "upper_quartile      1.105300e+11  \n",
       "max                 1.240000e+14  "
      ]
     },
     "execution_count": 83,
     "metadata": {},
     "output_type": "execute_result"
    }
   ],
   "source": [
    "def calculate_quartile(data):\n",
    "    nume_col_info_df = pd.DataFrame()\n",
    "    for col in data.keys():\n",
    "        missing = data[col].isnull().sum()\n",
    "        missing_percentage = round(data[col].isnull().sum() * 100 / len(data[col]), 1)\n",
    "        mean_value = data[col].mean()\n",
    "        min_value = data[col].min()\n",
    "        lower_quartile = data[col].quantile(0.25)\n",
    "        median = data[col].median()\n",
    "        upper = data[col].quantile(0.75)\n",
    "        max_value = data[col].max()\n",
    "        row_line = pd.Series([missing,missing_percentage,mean_value, min_value, lower_quartile, median, upper, max_value], \n",
    "                            index = ['num_missing','missing_percentage', 'mean','min', 'lower_quartile', 'median', 'upper_quartile', 'max'])\n",
    "        nume_col_info_df[col] = row_line\n",
    "    return nume_col_info_df\n",
    "calculate_quartile(df[numeric])"
   ]
  },
  {
   "cell_type": "markdown",
   "metadata": {},
   "source": [
    "#### Với mỗi cột có kiểu dữ liệu dạng phân loại (categorical), các giá trị được phân bố như thế nào?"
   ]
  },
  {
   "cell_type": "markdown",
   "metadata": {
    "execution": {
     "iopub.execute_input": "2022-06-17T07:39:12.954787Z",
     "iopub.status.busy": "2022-06-17T07:39:12.954397Z",
     "iopub.status.idle": "2022-06-17T07:39:12.963279Z",
     "shell.execute_reply": "2022-06-17T07:39:12.961818Z",
     "shell.execute_reply.started": "2022-06-17T07:39:12.954752Z"
    }
   },
   "source": [
    "Với các cột có kiểu dữ liệu không phải số và các cột có dạng số nhưng có ít hơn 25 giá trị khác nhau, ta sẽ tính:\n",
    "\n",
    "- Số các giá trị thiếu và tỉ lệ % (từ 0 đến 100) các giá trị thiếu\n",
    "- Số lượng các giá trị (các giá trị ở đây là các giá trị khác nhau và ta không xét giá trị thiếu)\n",
    "- Tỉ lệ % (từ 0 đến 100) của mỗi giá trị được sort theo tỉ lệ % giảm dần (ta không xét giá trị thiếu, tỉ lệ là tỉ lệ so với số lượng các giá trị không thiếu): bạn dùng dictionary để lưu, key là giá trị, value là tỉ lệ %"
   ]
  },
  {
   "cell_type": "code",
   "execution_count": 84,
   "metadata": {
    "execution": {
     "iopub.execute_input": "2022-06-22T03:13:21.52337Z",
     "iopub.status.busy": "2022-06-22T03:13:21.522481Z",
     "iopub.status.idle": "2022-06-22T03:13:21.979553Z",
     "shell.execute_reply": "2022-06-22T03:13:21.977866Z",
     "shell.execute_reply.started": "2022-06-22T03:13:21.523326Z"
    }
   },
   "outputs": [
    {
     "data": {
      "text/html": [
       "<div>\n",
       "<style scoped>\n",
       "    .dataframe tbody tr th:only-of-type {\n",
       "        vertical-align: middle;\n",
       "    }\n",
       "\n",
       "    .dataframe tbody tr th {\n",
       "        vertical-align: top;\n",
       "    }\n",
       "\n",
       "    .dataframe thead th {\n",
       "        text-align: right;\n",
       "    }\n",
       "</style>\n",
       "<table border=\"1\" class=\"dataframe\">\n",
       "  <thead>\n",
       "    <tr style=\"text-align: right;\">\n",
       "      <th></th>\n",
       "      <th>Loại hình nhà ở</th>\n",
       "      <th>Giấy tờ pháp lý</th>\n",
       "      <th>Số phòng ngủ</th>\n",
       "      <th>Ngày</th>\n",
       "      <th>Địa chỉ</th>\n",
       "      <th>Quận</th>\n",
       "      <th>Huyện</th>\n",
       "      <th>Loại hình nhà ở</th>\n",
       "      <th>Giấy tờ pháp lý</th>\n",
       "      <th>Giá/m2</th>\n",
       "    </tr>\n",
       "  </thead>\n",
       "  <tbody>\n",
       "    <tr>\n",
       "      <th>num_missing</th>\n",
       "      <td>31</td>\n",
       "      <td>28421</td>\n",
       "      <td>38</td>\n",
       "      <td>0</td>\n",
       "      <td>47</td>\n",
       "      <td>1</td>\n",
       "      <td>47</td>\n",
       "      <td>31</td>\n",
       "      <td>28421</td>\n",
       "      <td>12</td>\n",
       "    </tr>\n",
       "    <tr>\n",
       "      <th>missing_percentage</th>\n",
       "      <td>0.0</td>\n",
       "      <td>34.8</td>\n",
       "      <td>0.0</td>\n",
       "      <td>0.0</td>\n",
       "      <td>0.1</td>\n",
       "      <td>0.0</td>\n",
       "      <td>0.1</td>\n",
       "      <td>0.0</td>\n",
       "      <td>34.8</td>\n",
       "      <td>0.0</td>\n",
       "    </tr>\n",
       "    <tr>\n",
       "      <th>num_values</th>\n",
       "      <td>4</td>\n",
       "      <td>3</td>\n",
       "      <td>11</td>\n",
       "      <td>174</td>\n",
       "      <td>13957</td>\n",
       "      <td>29</td>\n",
       "      <td>309</td>\n",
       "      <td>4</td>\n",
       "      <td>3</td>\n",
       "      <td>8345</td>\n",
       "    </tr>\n",
       "    <tr>\n",
       "      <th>value_percentages</th>\n",
       "      <td>{'Nhà ngõ, hẻm': 75.7, 'Nhà mặt phố, mặt tiền'...</td>\n",
       "      <td>{'Đã có sổ': 98.7, 'Đang chờ sổ': 0.7, 'Giấy t...</td>\n",
       "      <td>{4.0: 35.3, 3.0: 32.9, 5.0: 9.6, 2.0: 8.9, 6.0...</td>\n",
       "      <td>{2020-08-04 00:00:00: 3.2, 2020-08-03 00:00:00...</td>\n",
       "      <td>{'Đường Minh Khai, Phường Minh Khai, Quận Hai ...</td>\n",
       "      <td>{'Quận Đống Đa': 16.9, 'Quận Thanh Xuân': 15.6...</td>\n",
       "      <td>{'Phường Khương Trung': 3.4, 'Phường Khương Đì...</td>\n",
       "      <td>{'Nhà ngõ, hẻm': 75.7, 'Nhà mặt phố, mặt tiền'...</td>\n",
       "      <td>{'Đã có sổ': 98.7, 'Đang chờ sổ': 0.7, 'Giấy t...</td>\n",
       "      <td>{'100 triệu/m²': 3.0, '80 triệu/m²': 1.4, '75 ...</td>\n",
       "    </tr>\n",
       "  </tbody>\n",
       "</table>\n",
       "</div>"
      ],
      "text/plain": [
       "                                                      Loại hình nhà ở  \\\n",
       "num_missing                                                        31   \n",
       "missing_percentage                                                0.0   \n",
       "num_values                                                          4   \n",
       "value_percentages   {'Nhà ngõ, hẻm': 75.7, 'Nhà mặt phố, mặt tiền'...   \n",
       "\n",
       "                                                      Giấy tờ pháp lý  \\\n",
       "num_missing                                                     28421   \n",
       "missing_percentage                                               34.8   \n",
       "num_values                                                          3   \n",
       "value_percentages   {'Đã có sổ': 98.7, 'Đang chờ sổ': 0.7, 'Giấy t...   \n",
       "\n",
       "                                                         Số phòng ngủ  \\\n",
       "num_missing                                                        38   \n",
       "missing_percentage                                                0.0   \n",
       "num_values                                                         11   \n",
       "value_percentages   {4.0: 35.3, 3.0: 32.9, 5.0: 9.6, 2.0: 8.9, 6.0...   \n",
       "\n",
       "                                                                 Ngày  \\\n",
       "num_missing                                                         0   \n",
       "missing_percentage                                                0.0   \n",
       "num_values                                                        174   \n",
       "value_percentages   {2020-08-04 00:00:00: 3.2, 2020-08-03 00:00:00...   \n",
       "\n",
       "                                                              Địa chỉ  \\\n",
       "num_missing                                                        47   \n",
       "missing_percentage                                                0.1   \n",
       "num_values                                                      13957   \n",
       "value_percentages   {'Đường Minh Khai, Phường Minh Khai, Quận Hai ...   \n",
       "\n",
       "                                                                 Quận  \\\n",
       "num_missing                                                         1   \n",
       "missing_percentage                                                0.0   \n",
       "num_values                                                         29   \n",
       "value_percentages   {'Quận Đống Đa': 16.9, 'Quận Thanh Xuân': 15.6...   \n",
       "\n",
       "                                                                Huyện  \\\n",
       "num_missing                                                        47   \n",
       "missing_percentage                                                0.1   \n",
       "num_values                                                        309   \n",
       "value_percentages   {'Phường Khương Trung': 3.4, 'Phường Khương Đì...   \n",
       "\n",
       "                                                      Loại hình nhà ở  \\\n",
       "num_missing                                                        31   \n",
       "missing_percentage                                                0.0   \n",
       "num_values                                                          4   \n",
       "value_percentages   {'Nhà ngõ, hẻm': 75.7, 'Nhà mặt phố, mặt tiền'...   \n",
       "\n",
       "                                                      Giấy tờ pháp lý  \\\n",
       "num_missing                                                     28421   \n",
       "missing_percentage                                               34.8   \n",
       "num_values                                                          3   \n",
       "value_percentages   {'Đã có sổ': 98.7, 'Đang chờ sổ': 0.7, 'Giấy t...   \n",
       "\n",
       "                                                               Giá/m2  \n",
       "num_missing                                                        12  \n",
       "missing_percentage                                                0.0  \n",
       "num_values                                                       8345  \n",
       "value_percentages   {'100 triệu/m²': 3.0, '80 triệu/m²': 1.4, '75 ...  "
      ]
     },
     "execution_count": 84,
     "metadata": {},
     "output_type": "execute_result"
    }
   ],
   "source": [
    "missing = [];missing_percentage=[];num_values=[];value_percentages=[]\n",
    "\n",
    "for column in categorical:\n",
    "    missing.append(df[column].isnull().sum())\n",
    "    missing_percentage.append((df[column].isnull().sum() * 100 / len(df)).round(1))\n",
    "    temp = df[column].dropna()\n",
    "    num_values.append(len(temp.unique()))\n",
    "    value_percentages.append(((temp.value_counts(normalize=True)*100).round(1)).to_dict())\n",
    "cat_info_df = pd.DataFrame([missing,missing_percentage,num_values,value_percentages],\n",
    "                            index=['num_missing','missing_percentage','num_values','value_percentages'],\n",
    "                            columns=list(categorical))\n",
    "cat_info_df"
   ]
  },
  {
   "cell_type": "markdown",
   "metadata": {},
   "source": [
    "#### Số lượng các giá trị khác nhau? Show một vài giá trị → Có gì bất thường không?"
   ]
  },
  {
   "cell_type": "code",
   "execution_count": 85,
   "metadata": {
    "execution": {
     "iopub.execute_input": "2022-06-22T03:13:21.981553Z",
     "iopub.status.busy": "2022-06-22T03:13:21.980878Z",
     "iopub.status.idle": "2022-06-22T03:13:21.991677Z",
     "shell.execute_reply": "2022-06-22T03:13:21.990715Z",
     "shell.execute_reply.started": "2022-06-22T03:13:21.981505Z"
    }
   },
   "outputs": [],
   "source": [
    "from matplotlib import cycler \n",
    "colors = cycler('color', ['#EE6666', '#3388BB', '#9988DD', '#EECC55', '#88BB44', '#FFBBBB']) \n",
    "plt.rc('axes', facecolor='#E6E6E6', edgecolor='none', axisbelow=True, grid=True, prop_cycle=colors) \n",
    "plt.rc('grid', color='w', linestyle='solid') \n",
    "plt.rc('xtick', direction='out', color='gray') \n",
    "plt.rc('ytick', direction='out', color='gray') \n",
    "plt.rc('patch', edgecolor='#E6E6E6') \n",
    "plt.rc('lines', linewidth=2)"
   ]
  },
  {
   "cell_type": "code",
   "execution_count": 86,
   "metadata": {
    "execution": {
     "iopub.execute_input": "2022-06-22T03:13:21.993836Z",
     "iopub.status.busy": "2022-06-22T03:13:21.993199Z",
     "iopub.status.idle": "2022-06-22T03:13:22.388158Z",
     "shell.execute_reply": "2022-06-22T03:13:22.387057Z",
     "shell.execute_reply.started": "2022-06-22T03:13:21.993791Z"
    }
   },
   "outputs": [
    {
     "data": {
      "text/plain": [
       "<AxesSubplot:ylabel='Giấy tờ pháp lý'>"
      ]
     },
     "execution_count": 86,
     "metadata": {},
     "output_type": "execute_result"
    },
    {
     "data": {
      "image/png": "[encoded data removed]",
      "text/plain": [
       "<Figure size 1080x720 with 2 Axes>"
      ]
     },
     "metadata": {},
     "output_type": "display_data"
    }
   ],
   "source": [
    "fig, axis = plt.subplots(1,2,figsize=(15,10))\n",
    "fig.subplots_adjust(left=0.0625, right=0.95, wspace=0.1)\n",
    " \n",
    "df['Loại hình nhà ở'].value_counts().plot(kind='pie', autopct='%1.1f%%',ax = axis[0], fontsize=13)\n",
    "df['Giấy tờ pháp lý'].value_counts().plot(kind='pie', autopct='%1.1f%%',ax = axis[1], fontsize=13)"
   ]
  },
  {
   "cell_type": "markdown",
   "metadata": {},
   "source": [
    "#### Sơ lược mối tương quan giữa các cột"
   ]
  },
  {
   "cell_type": "markdown",
   "metadata": {},
   "source": [
    "Có vẻ như dữ liệu không có gì bất thường tuy nhiên ta sẽ tìm hiểu thêm về mối tương quan giữa các biến và kiểm tra xem có dữ liệu nào là outlier hay noise hay không."
   ]
  },
  {
   "cell_type": "code",
   "execution_count": 87,
   "metadata": {
    "execution": {
     "iopub.execute_input": "2022-06-22T03:13:22.389912Z",
     "iopub.status.busy": "2022-06-22T03:13:22.389369Z",
     "iopub.status.idle": "2022-06-22T03:13:22.730578Z",
     "shell.execute_reply": "2022-06-22T03:13:22.729446Z",
     "shell.execute_reply.started": "2022-06-22T03:13:22.389878Z"
    }
   },
   "outputs": [
    {
     "data": {
      "image/png": "[encoded data removed]",
      "text/plain": [
       "<Figure size 1296x864 with 2 Axes>"
      ]
     },
     "metadata": {
      "needs_background": "dark"
     },
     "output_type": "display_data"
    }
   ],
   "source": [
    "df_corr = df.corr()\n",
    "mask = np.zeros_like(df_corr, dtype=bool)\n",
    "mask[np.triu_indices_from(mask)] = True\n",
    "plt.subplots(figsize=(18,12))\n",
    "sns.heatmap(df_corr, cmap=\"coolwarm\", annot=True, mask=mask)\n",
    "plt.title(\"Correlation Heatmap\");"
   ]
  },
  {
   "cell_type": "code",
   "execution_count": 88,
   "metadata": {
    "execution": {
     "iopub.execute_input": "2022-06-22T03:13:22.732719Z",
     "iopub.status.busy": "2022-06-22T03:13:22.73199Z",
     "iopub.status.idle": "2022-06-22T03:13:22.736986Z",
     "shell.execute_reply": "2022-06-22T03:13:22.736011Z",
     "shell.execute_reply.started": "2022-06-22T03:13:22.732667Z"
    }
   },
   "outputs": [],
   "source": [
    "# pair_df = df\n",
    "\n",
    "# g = sns.pairplot(pair_df, height=2.5)\n",
    "# handles = g._legend_data.values()\n",
    "# labels = ['Spring','Summer','Autumn','Winter']\n",
    "# g.fig.legend(handles=handles, labels=labels,title='Seasons',bbox_to_anchor=(1,0.55));"
   ]
  },
  {
   "cell_type": "code",
   "execution_count": 89,
   "metadata": {
    "execution": {
     "iopub.execute_input": "2022-06-22T03:13:22.738516Z",
     "iopub.status.busy": "2022-06-22T03:13:22.73816Z",
     "iopub.status.idle": "2022-06-22T03:13:22.783174Z",
     "shell.execute_reply": "2022-06-22T03:13:22.782422Z",
     "shell.execute_reply.started": "2022-06-22T03:13:22.738458Z"
    }
   },
   "outputs": [
    {
     "data": {
      "text/html": [
       "<div>\n",
       "<style scoped>\n",
       "    .dataframe tbody tr th:only-of-type {\n",
       "        vertical-align: middle;\n",
       "    }\n",
       "\n",
       "    .dataframe tbody tr th {\n",
       "        vertical-align: top;\n",
       "    }\n",
       "\n",
       "    .dataframe thead th {\n",
       "        text-align: right;\n",
       "    }\n",
       "</style>\n",
       "<table border=\"1\" class=\"dataframe\">\n",
       "  <thead>\n",
       "    <tr style=\"text-align: right;\">\n",
       "      <th></th>\n",
       "      <th>Ngày</th>\n",
       "      <th>Địa chỉ</th>\n",
       "      <th>Quận</th>\n",
       "      <th>Huyện</th>\n",
       "      <th>Loại hình nhà ở</th>\n",
       "      <th>Giấy tờ pháp lý</th>\n",
       "      <th>Số tầng</th>\n",
       "      <th>Số phòng ngủ</th>\n",
       "      <th>Diện tích</th>\n",
       "      <th>Dài</th>\n",
       "      <th>Rộng</th>\n",
       "      <th>Giá/m2</th>\n",
       "      <th>Giá</th>\n",
       "    </tr>\n",
       "  </thead>\n",
       "  <tbody>\n",
       "    <tr>\n",
       "      <th>0.0</th>\n",
       "      <td>2020-08-05</td>\n",
       "      <td>Đường Hoàng Quốc Việt, Phường Nghĩa Đô, Quận C...</td>\n",
       "      <td>Quận Cầu Giấy</td>\n",
       "      <td>Phường Nghĩa Đô</td>\n",
       "      <td>Nhà ngõ, hẻm</td>\n",
       "      <td>Đã có sổ</td>\n",
       "      <td>4.0</td>\n",
       "      <td>5.0</td>\n",
       "      <td>46.0</td>\n",
       "      <td>NaN</td>\n",
       "      <td>NaN</td>\n",
       "      <td>86,96 triệu/m²</td>\n",
       "      <td>8.696000e+10</td>\n",
       "    </tr>\n",
       "    <tr>\n",
       "      <th>1.0</th>\n",
       "      <td>2020-08-05</td>\n",
       "      <td>Đường Kim Giang, Phường Kim Giang, Quận Thanh ...</td>\n",
       "      <td>Quận Thanh Xuân</td>\n",
       "      <td>Phường Kim Giang</td>\n",
       "      <td>Nhà mặt phố, mặt tiền</td>\n",
       "      <td>NaN</td>\n",
       "      <td>NaN</td>\n",
       "      <td>3.0</td>\n",
       "      <td>37.0</td>\n",
       "      <td>NaN</td>\n",
       "      <td>NaN</td>\n",
       "      <td>116,22 triệu/m²</td>\n",
       "      <td>1.162200e+11</td>\n",
       "    </tr>\n",
       "    <tr>\n",
       "      <th>2.0</th>\n",
       "      <td>2020-08-05</td>\n",
       "      <td>phố minh khai, Phường Minh Khai, Quận Hai Bà T...</td>\n",
       "      <td>Quận Hai Bà Trưng</td>\n",
       "      <td>Phường Minh Khai</td>\n",
       "      <td>Nhà ngõ, hẻm</td>\n",
       "      <td>Đã có sổ</td>\n",
       "      <td>4.0</td>\n",
       "      <td>4.0</td>\n",
       "      <td>40.0</td>\n",
       "      <td>10.00</td>\n",
       "      <td>4.0</td>\n",
       "      <td>65 triệu/m²</td>\n",
       "      <td>6.500000e+10</td>\n",
       "    </tr>\n",
       "    <tr>\n",
       "      <th>3.0</th>\n",
       "      <td>2020-08-05</td>\n",
       "      <td>Đường Võng Thị, Phường Thụy Khuê, Quận Tây Hồ,...</td>\n",
       "      <td>Quận Tây Hồ</td>\n",
       "      <td>Phường Thụy Khuê</td>\n",
       "      <td>Nhà ngõ, hẻm</td>\n",
       "      <td>Đã có sổ</td>\n",
       "      <td>NaN</td>\n",
       "      <td>6.0</td>\n",
       "      <td>51.0</td>\n",
       "      <td>12.75</td>\n",
       "      <td>4.0</td>\n",
       "      <td>100 triệu/m²</td>\n",
       "      <td>1.000000e+11</td>\n",
       "    </tr>\n",
       "    <tr>\n",
       "      <th>4.0</th>\n",
       "      <td>2020-08-05</td>\n",
       "      <td>Đường Kim Giang, Phường Kim Giang, Quận Thanh ...</td>\n",
       "      <td>Quận Thanh Xuân</td>\n",
       "      <td>Phường Kim Giang</td>\n",
       "      <td>Nhà ngõ, hẻm</td>\n",
       "      <td>NaN</td>\n",
       "      <td>NaN</td>\n",
       "      <td>4.0</td>\n",
       "      <td>36.0</td>\n",
       "      <td>9.00</td>\n",
       "      <td>4.0</td>\n",
       "      <td>86,11 triệu/m²</td>\n",
       "      <td>8.611000e+10</td>\n",
       "    </tr>\n",
       "    <tr>\n",
       "      <th>...</th>\n",
       "      <td>...</td>\n",
       "      <td>...</td>\n",
       "      <td>...</td>\n",
       "      <td>...</td>\n",
       "      <td>...</td>\n",
       "      <td>...</td>\n",
       "      <td>...</td>\n",
       "      <td>...</td>\n",
       "      <td>...</td>\n",
       "      <td>...</td>\n",
       "      <td>...</td>\n",
       "      <td>...</td>\n",
       "      <td>...</td>\n",
       "    </tr>\n",
       "    <tr>\n",
       "      <th>82491.0</th>\n",
       "      <td>2019-08-23</td>\n",
       "      <td>Đường Hồ Tùng Mậu, Phường Phúc Diễn, Quận Bắc ...</td>\n",
       "      <td>Quận Bắc Từ Liêm</td>\n",
       "      <td>Phường Phúc Diễn</td>\n",
       "      <td>Nhà phố liền kề</td>\n",
       "      <td>NaN</td>\n",
       "      <td>NaN</td>\n",
       "      <td>3.0</td>\n",
       "      <td>38.0</td>\n",
       "      <td>NaN</td>\n",
       "      <td>NaN</td>\n",
       "      <td>81,58 triệu/m²</td>\n",
       "      <td>8.158000e+10</td>\n",
       "    </tr>\n",
       "    <tr>\n",
       "      <th>82492.0</th>\n",
       "      <td>2019-08-07</td>\n",
       "      <td>Đường Trần Quốc Hoàn, Phường Quan Hoa, Quận Cầ...</td>\n",
       "      <td>Quận Cầu Giấy</td>\n",
       "      <td>Phường Quan Hoa</td>\n",
       "      <td>Nhà mặt phố, mặt tiền</td>\n",
       "      <td>NaN</td>\n",
       "      <td>NaN</td>\n",
       "      <td>3.0</td>\n",
       "      <td>50.0</td>\n",
       "      <td>NaN</td>\n",
       "      <td>NaN</td>\n",
       "      <td>292 triệu/m²</td>\n",
       "      <td>2.920000e+11</td>\n",
       "    </tr>\n",
       "    <tr>\n",
       "      <th>82493.0</th>\n",
       "      <td>2019-08-07</td>\n",
       "      <td>Đường Nguyễn Khánh Toàn, Phường Quan Hoa, Quận...</td>\n",
       "      <td>Quận Cầu Giấy</td>\n",
       "      <td>Phường Quan Hoa</td>\n",
       "      <td>Nhà mặt phố, mặt tiền</td>\n",
       "      <td>Đã có sổ</td>\n",
       "      <td>NaN</td>\n",
       "      <td>4.0</td>\n",
       "      <td>41.0</td>\n",
       "      <td>NaN</td>\n",
       "      <td>NaN</td>\n",
       "      <td>341,46 triệu/m²</td>\n",
       "      <td>3.414600e+11</td>\n",
       "    </tr>\n",
       "    <tr>\n",
       "      <th>82494.0</th>\n",
       "      <td>2019-08-05</td>\n",
       "      <td>Đường Quan Hoa, Phường Quan Hoa, Quận Cầu Giấy...</td>\n",
       "      <td>Quận Cầu Giấy</td>\n",
       "      <td>Phường Quan Hoa</td>\n",
       "      <td>Nhà ngõ, hẻm</td>\n",
       "      <td>Đã có sổ</td>\n",
       "      <td>NaN</td>\n",
       "      <td>4.0</td>\n",
       "      <td>60.0</td>\n",
       "      <td>NaN</td>\n",
       "      <td>NaN</td>\n",
       "      <td>101,67 triệu/m²</td>\n",
       "      <td>1.016700e+11</td>\n",
       "    </tr>\n",
       "    <tr>\n",
       "      <th>82495.0</th>\n",
       "      <td>2019-08-05</td>\n",
       "      <td>Đường Hồ Tùng Mậu, Phường Mai Dịch, Quận Cầu G...</td>\n",
       "      <td>Quận Cầu Giấy</td>\n",
       "      <td>Phường Mai Dịch</td>\n",
       "      <td>Nhà phố liền kề</td>\n",
       "      <td>NaN</td>\n",
       "      <td>NaN</td>\n",
       "      <td>4.0</td>\n",
       "      <td>45.0</td>\n",
       "      <td>NaN</td>\n",
       "      <td>NaN</td>\n",
       "      <td>102,22 triệu/m²</td>\n",
       "      <td>1.022200e+11</td>\n",
       "    </tr>\n",
       "  </tbody>\n",
       "</table>\n",
       "<p>81681 rows × 13 columns</p>\n",
       "</div>"
      ],
      "text/plain": [
       "              Ngày                                            Địa chỉ  \\\n",
       "0.0     2020-08-05  Đường Hoàng Quốc Việt, Phường Nghĩa Đô, Quận C...   \n",
       "1.0     2020-08-05  Đường Kim Giang, Phường Kim Giang, Quận Thanh ...   \n",
       "2.0     2020-08-05  phố minh khai, Phường Minh Khai, Quận Hai Bà T...   \n",
       "3.0     2020-08-05  Đường Võng Thị, Phường Thụy Khuê, Quận Tây Hồ,...   \n",
       "4.0     2020-08-05  Đường Kim Giang, Phường Kim Giang, Quận Thanh ...   \n",
       "...            ...                                                ...   \n",
       "82491.0 2019-08-23  Đường Hồ Tùng Mậu, Phường Phúc Diễn, Quận Bắc ...   \n",
       "82492.0 2019-08-07  Đường Trần Quốc Hoàn, Phường Quan Hoa, Quận Cầ...   \n",
       "82493.0 2019-08-07  Đường Nguyễn Khánh Toàn, Phường Quan Hoa, Quận...   \n",
       "82494.0 2019-08-05  Đường Quan Hoa, Phường Quan Hoa, Quận Cầu Giấy...   \n",
       "82495.0 2019-08-05  Đường Hồ Tùng Mậu, Phường Mai Dịch, Quận Cầu G...   \n",
       "\n",
       "                      Quận             Huyện        Loại hình nhà ở  \\\n",
       "0.0          Quận Cầu Giấy   Phường Nghĩa Đô           Nhà ngõ, hẻm   \n",
       "1.0        Quận Thanh Xuân  Phường Kim Giang  Nhà mặt phố, mặt tiền   \n",
       "2.0      Quận Hai Bà Trưng  Phường Minh Khai           Nhà ngõ, hẻm   \n",
       "3.0            Quận Tây Hồ  Phường Thụy Khuê           Nhà ngõ, hẻm   \n",
       "4.0        Quận Thanh Xuân  Phường Kim Giang           Nhà ngõ, hẻm   \n",
       "...                    ...               ...                    ...   \n",
       "82491.0   Quận Bắc Từ Liêm  Phường Phúc Diễn        Nhà phố liền kề   \n",
       "82492.0      Quận Cầu Giấy   Phường Quan Hoa  Nhà mặt phố, mặt tiền   \n",
       "82493.0      Quận Cầu Giấy   Phường Quan Hoa  Nhà mặt phố, mặt tiền   \n",
       "82494.0      Quận Cầu Giấy   Phường Quan Hoa           Nhà ngõ, hẻm   \n",
       "82495.0      Quận Cầu Giấy   Phường Mai Dịch        Nhà phố liền kề   \n",
       "\n",
       "        Giấy tờ pháp lý  Số tầng  Số phòng ngủ  Diện tích    Dài  Rộng  \\\n",
       "0.0            Đã có sổ      4.0           5.0       46.0    NaN   NaN   \n",
       "1.0                 NaN      NaN           3.0       37.0    NaN   NaN   \n",
       "2.0            Đã có sổ      4.0           4.0       40.0  10.00   4.0   \n",
       "3.0            Đã có sổ      NaN           6.0       51.0  12.75   4.0   \n",
       "4.0                 NaN      NaN           4.0       36.0   9.00   4.0   \n",
       "...                 ...      ...           ...        ...    ...   ...   \n",
       "82491.0             NaN      NaN           3.0       38.0    NaN   NaN   \n",
       "82492.0             NaN      NaN           3.0       50.0    NaN   NaN   \n",
       "82493.0        Đã có sổ      NaN           4.0       41.0    NaN   NaN   \n",
       "82494.0        Đã có sổ      NaN           4.0       60.0    NaN   NaN   \n",
       "82495.0             NaN      NaN           4.0       45.0    NaN   NaN   \n",
       "\n",
       "                  Giá/m2           Giá  \n",
       "0.0       86,96 triệu/m²  8.696000e+10  \n",
       "1.0      116,22 triệu/m²  1.162200e+11  \n",
       "2.0          65 triệu/m²  6.500000e+10  \n",
       "3.0         100 triệu/m²  1.000000e+11  \n",
       "4.0       86,11 triệu/m²  8.611000e+10  \n",
       "...                  ...           ...  \n",
       "82491.0   81,58 triệu/m²  8.158000e+10  \n",
       "82492.0     292 triệu/m²  2.920000e+11  \n",
       "82493.0  341,46 triệu/m²  3.414600e+11  \n",
       "82494.0  101,67 triệu/m²  1.016700e+11  \n",
       "82495.0  102,22 triệu/m²  1.022200e+11  \n",
       "\n",
       "[81681 rows x 13 columns]"
      ]
     },
     "execution_count": 89,
     "metadata": {},
     "output_type": "execute_result"
    }
   ],
   "source": [
    "df"
   ]
  },
  {
   "cell_type": "markdown",
   "metadata": {},
   "source": [
    "### 2. Phân tích các cột"
   ]
  },
  {
   "cell_type": "markdown",
   "metadata": {
    "execution": {
     "iopub.execute_input": "2022-06-19T07:33:38.0533Z",
     "iopub.status.busy": "2022-06-19T07:33:38.052795Z",
     "iopub.status.idle": "2022-06-19T07:33:38.08531Z",
     "shell.execute_reply": "2022-06-19T07:33:38.08434Z",
     "shell.execute_reply.started": "2022-06-19T07:33:38.053263Z"
    }
   },
   "source": [
    "#### 2.1. Xem xét phân bố nhà ở các quận"
   ]
  },
  {
   "cell_type": "code",
   "execution_count": 90,
   "metadata": {
    "execution": {
     "iopub.execute_input": "2022-06-22T03:13:22.784528Z",
     "iopub.status.busy": "2022-06-22T03:13:22.784223Z",
     "iopub.status.idle": "2022-06-22T03:13:23.021946Z",
     "shell.execute_reply": "2022-06-22T03:13:23.02103Z",
     "shell.execute_reply.started": "2022-06-22T03:13:22.784494Z"
    }
   },
   "outputs": [
    {
     "data": {
      "image/png": "[encoded data removed]",
      "text/plain": [
       "<Figure size 432x288 with 1 Axes>"
      ]
     },
     "metadata": {
      "needs_background": "dark"
     },
     "output_type": "display_data"
    }
   ],
   "source": [
    "x = df['Quận'].value_counts().keys()\n",
    "\n",
    "plt.barh(x[:10], df['Quận'].value_counts()[:10]);"
   ]
  },
  {
   "cell_type": "markdown",
   "metadata": {},
   "source": [
    "=> Có xu hướng tăng dần ở trung tâm thành phố"
   ]
  },
  {
   "cell_type": "markdown",
   "metadata": {
    "execution": {
     "iopub.execute_input": "2022-06-19T07:41:46.023823Z",
     "iopub.status.busy": "2022-06-19T07:41:46.02339Z",
     "iopub.status.idle": "2022-06-19T07:41:46.054935Z",
     "shell.execute_reply": "2022-06-19T07:41:46.053727Z",
     "shell.execute_reply.started": "2022-06-19T07:41:46.023787Z"
    }
   },
   "source": [
    "#### 2.2  Phân bố của loại hình nhà ở"
   ]
  },
  {
   "cell_type": "code",
   "execution_count": 91,
   "metadata": {
    "execution": {
     "iopub.execute_input": "2022-06-22T03:13:23.023634Z",
     "iopub.status.busy": "2022-06-22T03:13:23.023326Z",
     "iopub.status.idle": "2022-06-22T03:13:23.204811Z",
     "shell.execute_reply": "2022-06-22T03:13:23.204055Z",
     "shell.execute_reply.started": "2022-06-22T03:13:23.023605Z"
    }
   },
   "outputs": [
    {
     "data": {
      "image/png": "[encoded data removed]",
      "text/plain": [
       "<Figure size 432x288 with 1 Axes>"
      ]
     },
     "metadata": {
      "needs_background": "dark"
     },
     "output_type": "display_data"
    }
   ],
   "source": [
    "x = df['Loại hình nhà ở'].value_counts()\n",
    "\n",
    "plt.barh(x.keys(), x);"
   ]
  },
  {
   "cell_type": "markdown",
   "metadata": {},
   "source": [
    "=> Ở trung tâm thì không có nhiều đất dẫn đến nhà ở ngõ hẻm nhiều vượt trội hơn so với các loại hình khác"
   ]
  },
  {
   "cell_type": "markdown",
   "metadata": {},
   "source": [
    "#### 2.3  Giấy tờ pháp lý như thế nào?"
   ]
  },
  {
   "cell_type": "code",
   "execution_count": 92,
   "metadata": {
    "execution": {
     "iopub.execute_input": "2022-06-22T03:13:23.206655Z",
     "iopub.status.busy": "2022-06-22T03:13:23.206276Z",
     "iopub.status.idle": "2022-06-22T03:13:23.226487Z",
     "shell.execute_reply": "2022-06-22T03:13:23.225409Z",
     "shell.execute_reply.started": "2022-06-22T03:13:23.206623Z"
    }
   },
   "outputs": [
    {
     "name": "stderr",
     "output_type": "stream",
     "text": [
      "C:\\Users\\ADMIN\\AppData\\Local\\Temp\\ipykernel_17156\\288613631.py:1: SettingWithCopyWarning: \n",
      "A value is trying to be set on a copy of a slice from a DataFrame\n",
      "\n",
      "See the caveats in the documentation: https://pandas.pydata.org/pandas-docs/stable/user_guide/indexing.html#returning-a-view-versus-a-copy\n",
      "  df['Giấy tờ pháp lý'][df['Giấy tờ pháp lý'].isna()] = 'Không rõ'\n"
     ]
    }
   ],
   "source": [
    "df['Giấy tờ pháp lý'][df['Giấy tờ pháp lý'].isna()] = 'Không rõ'"
   ]
  },
  {
   "cell_type": "code",
   "execution_count": 93,
   "metadata": {
    "execution": {
     "iopub.execute_input": "2022-06-22T03:13:23.228422Z",
     "iopub.status.busy": "2022-06-22T03:13:23.227809Z",
     "iopub.status.idle": "2022-06-22T03:13:23.402578Z",
     "shell.execute_reply": "2022-06-22T03:13:23.401929Z",
     "shell.execute_reply.started": "2022-06-22T03:13:23.228375Z"
    }
   },
   "outputs": [
    {
     "data": {
      "image/png": "[encoded data removed]",
      "text/plain": [
       "<Figure size 432x288 with 1 Axes>"
      ]
     },
     "metadata": {
      "needs_background": "dark"
     },
     "output_type": "display_data"
    }
   ],
   "source": [
    "x = df['Giấy tờ pháp lý'].value_counts()\n",
    "plt.barh(x.keys(), x);"
   ]
  },
  {
   "cell_type": "markdown",
   "metadata": {},
   "source": [
    "=> Mặc dù hầu hết nhà cửa đều đã có sổ nhưng có rất nhiều nhà vẫn không rõ tình trạng sổ sách. Do đó việc giá nhà cũng phải cân nhắc"
   ]
  },
  {
   "cell_type": "markdown",
   "metadata": {},
   "source": [
    "#### 2.4  Phân bố của số tầng, số phòng ngủ, diện tích"
   ]
  },
  {
   "cell_type": "markdown",
   "metadata": {},
   "source": [
    "###### a. Số tầng"
   ]
  },
  {
   "cell_type": "code",
   "execution_count": 94,
   "metadata": {
    "execution": {
     "iopub.execute_input": "2022-06-22T03:13:23.404434Z",
     "iopub.status.busy": "2022-06-22T03:13:23.403911Z",
     "iopub.status.idle": "2022-06-22T03:13:23.601888Z",
     "shell.execute_reply": "2022-06-22T03:13:23.601257Z",
     "shell.execute_reply.started": "2022-06-22T03:13:23.404404Z"
    }
   },
   "outputs": [
    {
     "data": {
      "image/png": "[encoded data removed]",
      "text/plain": [
       "<Figure size 432x288 with 1 Axes>"
      ]
     },
     "metadata": {
      "needs_background": "dark"
     },
     "output_type": "display_data"
    }
   ],
   "source": [
    "x = df['Số tầng'].value_counts()\n",
    "plt.bar(x.keys()[:10], x[:10]);"
   ]
  },
  {
   "cell_type": "markdown",
   "metadata": {},
   "source": [
    "=>  Chủ yếu là từ tầng 3 4 5"
   ]
  },
  {
   "cell_type": "markdown",
   "metadata": {},
   "source": [
    "##### b. Số phòng ngủ"
   ]
  },
  {
   "cell_type": "code",
   "execution_count": 95,
   "metadata": {
    "execution": {
     "iopub.execute_input": "2022-06-22T03:13:23.603213Z",
     "iopub.status.busy": "2022-06-22T03:13:23.602783Z",
     "iopub.status.idle": "2022-06-22T03:13:23.918839Z",
     "shell.execute_reply": "2022-06-22T03:13:23.917919Z",
     "shell.execute_reply.started": "2022-06-22T03:13:23.603183Z"
    }
   },
   "outputs": [
    {
     "data": {
      "image/png": "[encoded data removed]",
      "text/plain": [
       "<Figure size 432x288 with 1 Axes>"
      ]
     },
     "metadata": {
      "needs_background": "dark"
     },
     "output_type": "display_data"
    }
   ],
   "source": [
    "x = df['Số phòng ngủ'].value_counts()\n",
    "plt.bar(x.keys(), x);"
   ]
  },
  {
   "cell_type": "markdown",
   "metadata": {},
   "source": [
    "=> Số phòng ngủ thường là 3 4 phòng"
   ]
  },
  {
   "cell_type": "markdown",
   "metadata": {},
   "source": [
    "##### c. Diện tích"
   ]
  },
  {
   "cell_type": "code",
   "execution_count": 96,
   "metadata": {
    "execution": {
     "iopub.execute_input": "2022-06-22T03:13:23.920815Z",
     "iopub.status.busy": "2022-06-22T03:13:23.920209Z",
     "iopub.status.idle": "2022-06-22T03:13:24.357844Z",
     "shell.execute_reply": "2022-06-22T03:13:24.357182Z",
     "shell.execute_reply.started": "2022-06-22T03:13:23.920774Z"
    }
   },
   "outputs": [
    {
     "data": {
      "image/png": "[encoded data removed]",
      "text/plain": [
       "<Figure size 432x288 with 1 Axes>"
      ]
     },
     "metadata": {
      "needs_background": "dark"
     },
     "output_type": "display_data"
    }
   ],
   "source": [
    "x = df['Diện tích']\n",
    "plt.hist(x, edgecolor='black', color='red', bins=np.arange(0, 150+1));"
   ]
  },
  {
   "cell_type": "markdown",
   "metadata": {},
   "source": [
    "=> Phân bố diện tích chủ yếu là khoảng vào tầm  từ 30 -> 60 m2"
   ]
  },
  {
   "cell_type": "markdown",
   "metadata": {
    "execution": {
     "iopub.execute_input": "2022-06-19T08:02:57.40275Z",
     "iopub.status.busy": "2022-06-19T08:02:57.402314Z",
     "iopub.status.idle": "2022-06-19T08:02:57.435796Z",
     "shell.execute_reply": "2022-06-19T08:02:57.434309Z",
     "shell.execute_reply.started": "2022-06-19T08:02:57.402714Z"
    }
   },
   "source": [
    "#### 2.5  Phân tích giá"
   ]
  },
  {
   "cell_type": "code",
   "execution_count": 97,
   "metadata": {
    "execution": {
     "iopub.execute_input": "2022-06-22T03:13:24.359576Z",
     "iopub.status.busy": "2022-06-22T03:13:24.359098Z",
     "iopub.status.idle": "2022-06-22T03:13:25.793084Z",
     "shell.execute_reply": "2022-06-22T03:13:25.792254Z",
     "shell.execute_reply.started": "2022-06-22T03:13:24.359546Z"
    }
   },
   "outputs": [
    {
     "data": {
      "image/png": "[encoded data removed]",
      "text/plain": [
       "<Figure size 432x288 with 1 Axes>"
      ]
     },
     "metadata": {
      "needs_background": "dark"
     },
     "output_type": "display_data"
    }
   ],
   "source": [
    "# x = df['Giá'].value_counts()[:10]\n",
    "# \n",
    "# plt.hist(x, edgecolor='black', color='red', bins=np.arange(0, 200+1));\n",
    "\n",
    "x = df['Giá'].value_counts()[:100]\n",
    "x = x.sort_index()\n",
    "plt.bar(x, x.keys());\n",
    "plt.xlim([0, 200]);\n",
    "# plt.hist(x, edgecolor='black', color='red', bins=np.arange(100000000, 15000000000+1));"
   ]
  },
  {
   "cell_type": "markdown",
   "metadata": {
    "execution": {
     "iopub.execute_input": "2022-06-19T08:08:53.772492Z",
     "iopub.status.busy": "2022-06-19T08:08:53.771957Z",
     "iopub.status.idle": "2022-06-19T08:08:53.788125Z",
     "shell.execute_reply": "2022-06-19T08:08:53.785769Z",
     "shell.execute_reply.started": "2022-06-19T08:08:53.772458Z"
    }
   },
   "source": [
    "=> phân bố chủ yếu rơi vào từ 15 triệu - 75 triệu trên 1 m2 (khá mắc)"
   ]
  },
  {
   "cell_type": "markdown",
   "metadata": {
    "execution": {
     "iopub.execute_input": "2022-06-19T08:16:58.038271Z",
     "iopub.status.busy": "2022-06-19T08:16:58.037765Z",
     "iopub.status.idle": "2022-06-19T08:16:58.073272Z",
     "shell.execute_reply": "2022-06-19T08:16:58.072169Z",
     "shell.execute_reply.started": "2022-06-19T08:16:58.038237Z"
    }
   },
   "source": [
    "### 3. Phân tích nhiều cột"
   ]
  },
  {
   "cell_type": "markdown",
   "metadata": {},
   "source": [
    "#### 3.1 Ở các quận có nhiều nhà. Liệu số nhà có phân bố đều ở các huyện hay không?"
   ]
  },
  {
   "cell_type": "code",
   "execution_count": 98,
   "metadata": {
    "execution": {
     "iopub.execute_input": "2022-06-22T03:13:25.794594Z",
     "iopub.status.busy": "2022-06-22T03:13:25.79414Z",
     "iopub.status.idle": "2022-06-22T03:13:25.812763Z",
     "shell.execute_reply": "2022-06-22T03:13:25.811808Z",
     "shell.execute_reply.started": "2022-06-22T03:13:25.794565Z"
    }
   },
   "outputs": [
    {
     "data": {
      "text/plain": [
       "Quận Đống Đa         13839\n",
       "Quận Thanh Xuân      12769\n",
       "Quận Hoàng Mai       11063\n",
       "Quận Hai Bà Trưng    10381\n",
       "Name: Quận, dtype: int64"
      ]
     },
     "execution_count": 98,
     "metadata": {},
     "output_type": "execute_result"
    }
   ],
   "source": [
    "df['Quận'].value_counts()[:4]"
   ]
  },
  {
   "cell_type": "markdown",
   "metadata": {},
   "source": [
    "Ta sẽ lấy 4 quận có nhiều nhà nhất để phân tích"
   ]
  },
  {
   "cell_type": "code",
   "execution_count": 99,
   "metadata": {
    "execution": {
     "iopub.execute_input": "2022-06-22T03:13:25.814525Z",
     "iopub.status.busy": "2022-06-22T03:13:25.813948Z",
     "iopub.status.idle": "2022-06-22T03:13:27.229164Z",
     "shell.execute_reply": "2022-06-22T03:13:27.228391Z",
     "shell.execute_reply.started": "2022-06-22T03:13:25.814488Z"
    }
   },
   "outputs": [
    {
     "data": {
      "text/plain": [
       "<AxesSubplot:ylabel='Huyện'>"
      ]
     },
     "execution_count": 99,
     "metadata": {},
     "output_type": "execute_result"
    },
    {
     "data": {
      "image/png": "[encoded data removed]",
      "text/plain": [
       "<Figure size 1080x720 with 4 Axes>"
      ]
     },
     "metadata": {},
     "output_type": "display_data"
    }
   ],
   "source": [
    "fig, axis = plt.subplots(2,2,figsize=(15,10))\n",
    "fig.subplots_adjust(left=0.0625, right=0.95, wspace=0.1)\n",
    "\n",
    "df['Huyện'][df['Quận'] == 'Quận Đống Đa'].value_counts().plot(kind='pie', ax=axis[0][0] , autopct='%1.1f%%', fontsize=13)\n",
    "df['Huyện'][df['Quận'] == 'Quận Thanh Xuân'].value_counts().plot(kind='pie', ax=axis[0][1] , autopct='%1.1f%%', fontsize=13)\n",
    "df['Huyện'][df['Quận'] == 'Quận Hoàng Mai'].value_counts().plot(kind='pie', ax=axis[1][0] , autopct='%1.1f%%', fontsize=13)\n",
    "df['Huyện'][df['Quận'] == 'Quận Hai Bà Trưng'].value_counts().plot(kind='pie', ax=axis[1][1] , autopct='%1.1f%%', fontsize=13)"
   ]
  },
  {
   "cell_type": "markdown",
   "metadata": {},
   "source": [
    "=> Thường tập trung nhiều ở các phường đông dân, phát triển mạnh"
   ]
  },
  {
   "cell_type": "markdown",
   "metadata": {},
   "source": [
    "#### 3.2 Loại nhà có giá cao?"
   ]
  },
  {
   "cell_type": "code",
   "execution_count": 100,
   "metadata": {
    "execution": {
     "iopub.execute_input": "2022-06-22T03:13:27.231019Z",
     "iopub.status.busy": "2022-06-22T03:13:27.230117Z",
     "iopub.status.idle": "2022-06-22T03:13:27.416642Z",
     "shell.execute_reply": "2022-06-22T03:13:27.41597Z",
     "shell.execute_reply.started": "2022-06-22T03:13:27.230981Z"
    }
   },
   "outputs": [
    {
     "data": {
      "image/png": "[encoded data removed]",
      "text/plain": [
       "<Figure size 432x288 with 1 Axes>"
      ]
     },
     "metadata": {
      "needs_background": "dark"
     },
     "output_type": "display_data"
    }
   ],
   "source": [
    "# ta sẽ lấy top 100 nhà có giá cao\n",
    "x = df['Giá'].sort_values(ascending=False)[:100]\n",
    "x = df['Loại hình nhà ở'][x.index].value_counts()\n",
    "plt.barh(x.keys(), x);"
   ]
  },
  {
   "cell_type": "markdown",
   "metadata": {},
   "source": [
    "=> Thường là nhà mặt phố, mặt tiền"
   ]
  },
  {
   "cell_type": "markdown",
   "metadata": {},
   "source": [
    "#### 3.3 Diện tích liên quan đến giá cả thế nào"
   ]
  },
  {
   "cell_type": "code",
   "execution_count": 101,
   "metadata": {
    "execution": {
     "iopub.execute_input": "2022-06-22T03:13:27.41843Z",
     "iopub.status.busy": "2022-06-22T03:13:27.417944Z",
     "iopub.status.idle": "2022-06-22T03:13:27.640483Z",
     "shell.execute_reply": "2022-06-22T03:13:27.639524Z",
     "shell.execute_reply.started": "2022-06-22T03:13:27.418398Z"
    }
   },
   "outputs": [
    {
     "data": {
      "image/png": "[encoded data removed]",
      "text/plain": [
       "<Figure size 432x288 with 1 Axes>"
      ]
     },
     "metadata": {
      "needs_background": "dark"
     },
     "output_type": "display_data"
    }
   ],
   "source": [
    "y = df['Giá'].sort_values(ascending=False)[:100]\n",
    "x = df['Diện tích'][y.index]\n",
    "plt.scatter(x, y);\n",
    "# df['Diện tích']\n",
    "plt.ylabel(\"Giá\");\n",
    "plt.xlabel(\"Diện tích\");"
   ]
  },
  {
   "cell_type": "markdown",
   "metadata": {
    "execution": {
     "iopub.execute_input": "2022-06-19T08:42:31.35294Z",
     "iopub.status.busy": "2022-06-19T08:42:31.352293Z",
     "iopub.status.idle": "2022-06-19T08:42:31.369214Z",
     "shell.execute_reply": "2022-06-19T08:42:31.367847Z",
     "shell.execute_reply.started": "2022-06-19T08:42:31.352887Z"
    }
   },
   "source": [
    "=> Có vẻ như không có liên quan lắm"
   ]
  },
  {
   "cell_type": "markdown",
   "metadata": {},
   "source": [
    "#### 3.4 Phân tích hình dáng nhà "
   ]
  },
  {
   "cell_type": "code",
   "execution_count": 102,
   "metadata": {
    "execution": {
     "iopub.execute_input": "2022-06-22T03:13:27.64296Z",
     "iopub.status.busy": "2022-06-22T03:13:27.642232Z",
     "iopub.status.idle": "2022-06-22T03:13:27.832588Z",
     "shell.execute_reply": "2022-06-22T03:13:27.831727Z",
     "shell.execute_reply.started": "2022-06-22T03:13:27.642911Z"
    }
   },
   "outputs": [
    {
     "data": {
      "image/png": "[encoded data removed]",
      "text/plain": [
       "<Figure size 432x288 with 1 Axes>"
      ]
     },
     "metadata": {
      "needs_background": "dark"
     },
     "output_type": "display_data"
    }
   ],
   "source": [
    "y = df['Dài'][:500]\n",
    "x = df['Rộng'][:500]\n",
    "plt.scatter(x, y);\n",
    "# df['Diện tích']\n",
    "plt.ylabel(\"Dài\");\n",
    "plt.xlabel(\"Rộng\");\n",
    "# plt.xlim([0, 10000])\n",
    "# plt.ylim([0, 75000])"
   ]
  },
  {
   "cell_type": "markdown",
   "metadata": {},
   "source": [
    "=> Có vẻ như chiều Dài và Rộng khá tương đồng nhau "
   ]
  },
  {
   "cell_type": "markdown",
   "metadata": {},
   "source": [
    "#### 3.5 Giấy tờ pháp lý có liên quan đến giá không?"
   ]
  },
  {
   "cell_type": "code",
   "execution_count": 103,
   "metadata": {
    "execution": {
     "iopub.execute_input": "2022-06-22T03:13:27.833856Z",
     "iopub.status.busy": "2022-06-22T03:13:27.833546Z",
     "iopub.status.idle": "2022-06-22T03:13:28.010508Z",
     "shell.execute_reply": "2022-06-22T03:13:28.009709Z",
     "shell.execute_reply.started": "2022-06-22T03:13:27.833828Z"
    }
   },
   "outputs": [
    {
     "data": {
      "image/png": "[encoded data removed]",
      "text/plain": [
       "<Figure size 432x288 with 1 Axes>"
      ]
     },
     "metadata": {
      "needs_background": "dark"
     },
     "output_type": "display_data"
    }
   ],
   "source": [
    "# ta sẽ lấy top 100 nhà có giá cao\n",
    "x = df['Giá'].sort_values(ascending=False)[:100]\n",
    "x = df['Giấy tờ pháp lý'][x.index].value_counts()\n",
    "plt.barh(x.keys(), x);"
   ]
  },
  {
   "cell_type": "markdown",
   "metadata": {},
   "source": [
    "=> Các nhà giá cả cao thường là các nhà đã có sổ"
   ]
  },
  {
   "cell_type": "markdown",
   "metadata": {},
   "source": [
    "#### 3.6 Số tầng liên quan thế nào đến giá?"
   ]
  },
  {
   "cell_type": "code",
   "execution_count": 104,
   "metadata": {
    "execution": {
     "iopub.execute_input": "2022-06-22T03:13:28.013081Z",
     "iopub.status.busy": "2022-06-22T03:13:28.012326Z",
     "iopub.status.idle": "2022-06-22T03:13:28.224489Z",
     "shell.execute_reply": "2022-06-22T03:13:28.223783Z",
     "shell.execute_reply.started": "2022-06-22T03:13:28.013038Z"
    }
   },
   "outputs": [
    {
     "data": {
      "image/png": "[encoded data removed]",
      "text/plain": [
       "<Figure size 432x288 with 1 Axes>"
      ]
     },
     "metadata": {
      "needs_background": "dark"
     },
     "output_type": "display_data"
    }
   ],
   "source": [
    "# ta sẽ lấy top 100 nhà có giá cao\n",
    "x = df['Giá'].sort_values(ascending=False)[:100]\n",
    "x = df['Số tầng'][x.index].value_counts()\n",
    "plt.barh(x.keys(), x);"
   ]
  },
  {
   "cell_type": "markdown",
   "metadata": {
    "execution": {
     "iopub.execute_input": "2022-06-19T08:55:53.309557Z",
     "iopub.status.busy": "2022-06-19T08:55:53.309106Z",
     "iopub.status.idle": "2022-06-19T08:55:53.316456Z",
     "shell.execute_reply": "2022-06-19T08:55:53.315138Z",
     "shell.execute_reply.started": "2022-06-19T08:55:53.30952Z"
    }
   },
   "source": [
    "=> nhà giá cao vẫn thường nằm ở số tầng từ 3 - 8"
   ]
  },
  {
   "cell_type": "markdown",
   "metadata": {},
   "source": [
    "#### 3.7 Số phòng ngủ liên quan thế nào đến giá?"
   ]
  },
  {
   "cell_type": "code",
   "execution_count": 105,
   "metadata": {
    "execution": {
     "iopub.execute_input": "2022-06-22T03:13:28.226852Z",
     "iopub.status.busy": "2022-06-22T03:13:28.226138Z",
     "iopub.status.idle": "2022-06-22T03:13:28.536513Z",
     "shell.execute_reply": "2022-06-22T03:13:28.535654Z",
     "shell.execute_reply.started": "2022-06-22T03:13:28.226805Z"
    }
   },
   "outputs": [
    {
     "data": {
      "image/png": "[encoded data removed]",
      "text/plain": [
       "<Figure size 432x288 with 1 Axes>"
      ]
     },
     "metadata": {
      "needs_background": "dark"
     },
     "output_type": "display_data"
    }
   ],
   "source": [
    "# ta sẽ lấy top 100 nhà có giá cao\n",
    "x = df['Giá/m2'].sort_values(ascending=False)[:100]\n",
    "x = df['Số phòng ngủ'][x.index].value_counts()\n",
    "plt.barh(x.keys(), x);"
   ]
  },
  {
   "cell_type": "markdown",
   "metadata": {},
   "source": [
    "## TỔNG KẾT"
   ]
  },
  {
   "cell_type": "markdown",
   "metadata": {},
   "source": []
  }
 ],
 "metadata": {
  "kernelspec": {
   "display_name": "Python 3.9.12 ('base')",
   "language": "python",
   "name": "python3"
  },
  "language_info": {
   "codemirror_mode": {
    "name": "ipython",
    "version": 3
   },
   "file_extension": ".py",
   "mimetype": "text/x-python",
   "name": "python",
   "nbconvert_exporter": "python",
   "pygments_lexer": "ipython3",
   "version": "3.9.12"
  },
  "vscode": {
   "interpreter": {
    "hash": "ad2bdc8ecc057115af97d19610ffacc2b4e99fae6737bb82f5d7fb13d2f2c186"
   }
  }
 },
 "nbformat": 4,
 "nbformat_minor": 4
}
